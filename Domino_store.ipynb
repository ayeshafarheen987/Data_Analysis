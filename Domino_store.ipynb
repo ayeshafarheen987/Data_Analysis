{
 "cells": [
  {
   "cell_type": "code",
   "execution_count": 1,
   "id": "66368c50-a17f-48bc-a03c-918681827330",
   "metadata": {},
   "outputs": [],
   "source": [
    "import pandas as pd\n",
    "import numpy as np\n",
    "import matplotlib.pyplot as plt\n",
    "import seaborn as sns"
   ]
  },
  {
   "cell_type": "code",
   "execution_count": 2,
   "id": "0560c25c-e34c-4efa-a8dd-02b8dcd846ff",
   "metadata": {},
   "outputs": [],
   "source": [
    "df = pd.read_csv(\"C:/Users/LENOVO X1 YOGA/Downloads/diminos_data.csv\")"
   ]
  },
  {
   "cell_type": "code",
   "execution_count": 3,
   "id": "3b7a1efe-622c-4a0b-873c-48fc5d861aa2",
   "metadata": {},
   "outputs": [
    {
     "data": {
      "text/html": [
       "<div>\n",
       "<style scoped>\n",
       "    .dataframe tbody tr th:only-of-type {\n",
       "        vertical-align: middle;\n",
       "    }\n",
       "\n",
       "    .dataframe tbody tr th {\n",
       "        vertical-align: top;\n",
       "    }\n",
       "\n",
       "    .dataframe thead th {\n",
       "        text-align: right;\n",
       "    }\n",
       "</style>\n",
       "<table border=\"1\" class=\"dataframe\">\n",
       "  <thead>\n",
       "    <tr style=\"text-align: right;\">\n",
       "      <th></th>\n",
       "      <th>order_id</th>\n",
       "      <th>order_placed_at</th>\n",
       "      <th>order_delivered_at</th>\n",
       "    </tr>\n",
       "  </thead>\n",
       "  <tbody>\n",
       "    <tr>\n",
       "      <th>0</th>\n",
       "      <td>1523111</td>\n",
       "      <td>2023-03-01 00:00:59</td>\n",
       "      <td>2023-03-01 00:18:07.443132</td>\n",
       "    </tr>\n",
       "    <tr>\n",
       "      <th>1</th>\n",
       "      <td>1523112</td>\n",
       "      <td>2023-03-01 00:03:59</td>\n",
       "      <td>2023-03-01 00:19:34.925241</td>\n",
       "    </tr>\n",
       "    <tr>\n",
       "      <th>2</th>\n",
       "      <td>1523113</td>\n",
       "      <td>2023-03-01 00:07:22</td>\n",
       "      <td>2023-03-01 00:22:28.291385</td>\n",
       "    </tr>\n",
       "    <tr>\n",
       "      <th>3</th>\n",
       "      <td>1523114</td>\n",
       "      <td>2023-03-01 00:07:47</td>\n",
       "      <td>2023-03-01 00:46:19.019399</td>\n",
       "    </tr>\n",
       "    <tr>\n",
       "      <th>4</th>\n",
       "      <td>1523115</td>\n",
       "      <td>2023-03-01 00:09:03</td>\n",
       "      <td>2023-03-01 00:25:13.619056</td>\n",
       "    </tr>\n",
       "    <tr>\n",
       "      <th>...</th>\n",
       "      <td>...</td>\n",
       "      <td>...</td>\n",
       "      <td>...</td>\n",
       "    </tr>\n",
       "    <tr>\n",
       "      <th>14995</th>\n",
       "      <td>1538106</td>\n",
       "      <td>2023-03-27 23:37:05</td>\n",
       "      <td>2023-03-27 23:52:37.409378</td>\n",
       "    </tr>\n",
       "    <tr>\n",
       "      <th>14996</th>\n",
       "      <td>1538107</td>\n",
       "      <td>2023-03-27 23:47:38</td>\n",
       "      <td>2023-03-28 00:04:22.672912</td>\n",
       "    </tr>\n",
       "    <tr>\n",
       "      <th>14997</th>\n",
       "      <td>1538108</td>\n",
       "      <td>2023-03-27 23:50:16</td>\n",
       "      <td>2023-03-28 00:05:40.676238</td>\n",
       "    </tr>\n",
       "    <tr>\n",
       "      <th>14998</th>\n",
       "      <td>1538109</td>\n",
       "      <td>2023-03-27 23:52:44</td>\n",
       "      <td>2023-03-28 00:08:41.810358</td>\n",
       "    </tr>\n",
       "    <tr>\n",
       "      <th>14999</th>\n",
       "      <td>1538110</td>\n",
       "      <td>2023-03-27 23:58:20</td>\n",
       "      <td>2023-03-28 00:13:42.499311</td>\n",
       "    </tr>\n",
       "  </tbody>\n",
       "</table>\n",
       "<p>15000 rows × 3 columns</p>\n",
       "</div>"
      ],
      "text/plain": [
       "       order_id      order_placed_at          order_delivered_at\n",
       "0       1523111  2023-03-01 00:00:59  2023-03-01 00:18:07.443132\n",
       "1       1523112  2023-03-01 00:03:59  2023-03-01 00:19:34.925241\n",
       "2       1523113  2023-03-01 00:07:22  2023-03-01 00:22:28.291385\n",
       "3       1523114  2023-03-01 00:07:47  2023-03-01 00:46:19.019399\n",
       "4       1523115  2023-03-01 00:09:03  2023-03-01 00:25:13.619056\n",
       "...         ...                  ...                         ...\n",
       "14995   1538106  2023-03-27 23:37:05  2023-03-27 23:52:37.409378\n",
       "14996   1538107  2023-03-27 23:47:38  2023-03-28 00:04:22.672912\n",
       "14997   1538108  2023-03-27 23:50:16  2023-03-28 00:05:40.676238\n",
       "14998   1538109  2023-03-27 23:52:44  2023-03-28 00:08:41.810358\n",
       "14999   1538110  2023-03-27 23:58:20  2023-03-28 00:13:42.499311\n",
       "\n",
       "[15000 rows x 3 columns]"
      ]
     },
     "execution_count": 3,
     "metadata": {},
     "output_type": "execute_result"
    }
   ],
   "source": [
    "df"
   ]
  },
  {
   "cell_type": "code",
   "execution_count": 4,
   "id": "1a47d478-8ba1-4c5c-af3f-f0d5b34831a6",
   "metadata": {},
   "outputs": [
    {
     "data": {
      "text/plain": [
       "(15000, 3)"
      ]
     },
     "execution_count": 4,
     "metadata": {},
     "output_type": "execute_result"
    }
   ],
   "source": [
    "df.shape"
   ]
  },
  {
   "cell_type": "code",
   "execution_count": 5,
   "id": "8d687d3e-b7a5-40a6-89db-481df7bee409",
   "metadata": {},
   "outputs": [
    {
     "name": "stdout",
     "output_type": "stream",
     "text": [
      "<class 'pandas.core.frame.DataFrame'>\n",
      "RangeIndex: 15000 entries, 0 to 14999\n",
      "Data columns (total 3 columns):\n",
      " #   Column              Non-Null Count  Dtype \n",
      "---  ------              --------------  ----- \n",
      " 0   order_id            15000 non-null  int64 \n",
      " 1   order_placed_at     15000 non-null  object\n",
      " 2   order_delivered_at  15000 non-null  object\n",
      "dtypes: int64(1), object(2)\n",
      "memory usage: 351.7+ KB\n"
     ]
    }
   ],
   "source": [
    "df.info()"
   ]
  },
  {
   "cell_type": "code",
   "execution_count": 6,
   "id": "9d73b483-67ab-42e9-becb-8d8c32dfe71f",
   "metadata": {},
   "outputs": [
    {
     "data": {
      "text/plain": [
       "order_id              0\n",
       "order_placed_at       0\n",
       "order_delivered_at    0\n",
       "dtype: int64"
      ]
     },
     "execution_count": 6,
     "metadata": {},
     "output_type": "execute_result"
    }
   ],
   "source": [
    "df.isnull().sum()"
   ]
  },
  {
   "cell_type": "code",
   "execution_count": 7,
   "id": "62d2a66b-b2ef-4e34-a02d-d551938488cb",
   "metadata": {},
   "outputs": [
    {
     "data": {
      "text/html": [
       "<div>\n",
       "<style scoped>\n",
       "    .dataframe tbody tr th:only-of-type {\n",
       "        vertical-align: middle;\n",
       "    }\n",
       "\n",
       "    .dataframe tbody tr th {\n",
       "        vertical-align: top;\n",
       "    }\n",
       "\n",
       "    .dataframe thead th {\n",
       "        text-align: right;\n",
       "    }\n",
       "</style>\n",
       "<table border=\"1\" class=\"dataframe\">\n",
       "  <thead>\n",
       "    <tr style=\"text-align: right;\">\n",
       "      <th></th>\n",
       "      <th>order_id</th>\n",
       "    </tr>\n",
       "  </thead>\n",
       "  <tbody>\n",
       "    <tr>\n",
       "      <th>count</th>\n",
       "      <td>1.500000e+04</td>\n",
       "    </tr>\n",
       "    <tr>\n",
       "      <th>mean</th>\n",
       "      <td>1.530610e+06</td>\n",
       "    </tr>\n",
       "    <tr>\n",
       "      <th>std</th>\n",
       "      <td>4.330271e+03</td>\n",
       "    </tr>\n",
       "    <tr>\n",
       "      <th>min</th>\n",
       "      <td>1.523111e+06</td>\n",
       "    </tr>\n",
       "    <tr>\n",
       "      <th>25%</th>\n",
       "      <td>1.526861e+06</td>\n",
       "    </tr>\n",
       "    <tr>\n",
       "      <th>50%</th>\n",
       "      <td>1.530610e+06</td>\n",
       "    </tr>\n",
       "    <tr>\n",
       "      <th>75%</th>\n",
       "      <td>1.534360e+06</td>\n",
       "    </tr>\n",
       "    <tr>\n",
       "      <th>max</th>\n",
       "      <td>1.538110e+06</td>\n",
       "    </tr>\n",
       "  </tbody>\n",
       "</table>\n",
       "</div>"
      ],
      "text/plain": [
       "           order_id\n",
       "count  1.500000e+04\n",
       "mean   1.530610e+06\n",
       "std    4.330271e+03\n",
       "min    1.523111e+06\n",
       "25%    1.526861e+06\n",
       "50%    1.530610e+06\n",
       "75%    1.534360e+06\n",
       "max    1.538110e+06"
      ]
     },
     "execution_count": 7,
     "metadata": {},
     "output_type": "execute_result"
    }
   ],
   "source": [
    "df.describe()"
   ]
  },
  {
   "cell_type": "code",
   "execution_count": 8,
   "id": "8623104c-4674-4f67-9b12-014536cbeaf7",
   "metadata": {},
   "outputs": [
    {
     "data": {
      "text/plain": [
       "Index(['order_id', 'order_placed_at', 'order_delivered_at'], dtype='object')"
      ]
     },
     "execution_count": 8,
     "metadata": {},
     "output_type": "execute_result"
    }
   ],
   "source": [
    "df.columns"
   ]
  },
  {
   "cell_type": "code",
   "execution_count": 9,
   "id": "61f7fd09-cd6d-43dd-bc52-51d521b6e837",
   "metadata": {},
   "outputs": [],
   "source": [
    "import datetime "
   ]
  },
  {
   "cell_type": "code",
   "execution_count": 10,
   "id": "f2d7b622-f04a-4b68-b17d-7e7e2e7df31d",
   "metadata": {},
   "outputs": [],
   "source": [
    "df['order_placed_at'] = pd.to_datetime(df['order_placed_at'])\n"
   ]
  },
  {
   "cell_type": "code",
   "execution_count": 11,
   "id": "1c97a1e4-bfb9-44a6-8155-9dca857a16f0",
   "metadata": {},
   "outputs": [
    {
     "name": "stdout",
     "output_type": "stream",
     "text": [
      "<class 'pandas.core.frame.DataFrame'>\n",
      "RangeIndex: 15000 entries, 0 to 14999\n",
      "Data columns (total 3 columns):\n",
      " #   Column              Non-Null Count  Dtype         \n",
      "---  ------              --------------  -----         \n",
      " 0   order_id            15000 non-null  int64         \n",
      " 1   order_placed_at     15000 non-null  datetime64[ns]\n",
      " 2   order_delivered_at  15000 non-null  object        \n",
      "dtypes: datetime64[ns](1), int64(1), object(1)\n",
      "memory usage: 351.7+ KB\n"
     ]
    }
   ],
   "source": [
    "df.info()"
   ]
  },
  {
   "cell_type": "code",
   "execution_count": 12,
   "id": "570888b6-bcd3-49a9-bc27-0f65e1767097",
   "metadata": {},
   "outputs": [],
   "source": [
    "df['order_delivered_at']=pd.to_datetime(df['order_delivered_at'])"
   ]
  },
  {
   "cell_type": "code",
   "execution_count": 13,
   "id": "edcb8c1a-49b0-48f5-b080-29d309e36576",
   "metadata": {},
   "outputs": [
    {
     "name": "stdout",
     "output_type": "stream",
     "text": [
      "<class 'pandas.core.frame.DataFrame'>\n",
      "RangeIndex: 15000 entries, 0 to 14999\n",
      "Data columns (total 3 columns):\n",
      " #   Column              Non-Null Count  Dtype         \n",
      "---  ------              --------------  -----         \n",
      " 0   order_id            15000 non-null  int64         \n",
      " 1   order_placed_at     15000 non-null  datetime64[ns]\n",
      " 2   order_delivered_at  15000 non-null  datetime64[ns]\n",
      "dtypes: datetime64[ns](2), int64(1)\n",
      "memory usage: 351.7 KB\n"
     ]
    }
   ],
   "source": [
    "df.info()"
   ]
  },
  {
   "cell_type": "code",
   "execution_count": 14,
   "id": "71fa8dc9-fd63-460a-820d-adcff07bff60",
   "metadata": {},
   "outputs": [],
   "source": [
    "df['days_at_order_placed']=df['order_placed_at'].dt.strftime('%A')"
   ]
  },
  {
   "cell_type": "code",
   "execution_count": 15,
   "id": "53984693-ae15-460f-877a-a928d0cfdd61",
   "metadata": {},
   "outputs": [
    {
     "data": {
      "text/html": [
       "<div>\n",
       "<style scoped>\n",
       "    .dataframe tbody tr th:only-of-type {\n",
       "        vertical-align: middle;\n",
       "    }\n",
       "\n",
       "    .dataframe tbody tr th {\n",
       "        vertical-align: top;\n",
       "    }\n",
       "\n",
       "    .dataframe thead th {\n",
       "        text-align: right;\n",
       "    }\n",
       "</style>\n",
       "<table border=\"1\" class=\"dataframe\">\n",
       "  <thead>\n",
       "    <tr style=\"text-align: right;\">\n",
       "      <th></th>\n",
       "      <th>order_id</th>\n",
       "      <th>order_placed_at</th>\n",
       "      <th>order_delivered_at</th>\n",
       "      <th>days_at_order_placed</th>\n",
       "    </tr>\n",
       "  </thead>\n",
       "  <tbody>\n",
       "    <tr>\n",
       "      <th>0</th>\n",
       "      <td>1523111</td>\n",
       "      <td>2023-03-01 00:00:59</td>\n",
       "      <td>2023-03-01 00:18:07.443132</td>\n",
       "      <td>Wednesday</td>\n",
       "    </tr>\n",
       "    <tr>\n",
       "      <th>1</th>\n",
       "      <td>1523112</td>\n",
       "      <td>2023-03-01 00:03:59</td>\n",
       "      <td>2023-03-01 00:19:34.925241</td>\n",
       "      <td>Wednesday</td>\n",
       "    </tr>\n",
       "    <tr>\n",
       "      <th>2</th>\n",
       "      <td>1523113</td>\n",
       "      <td>2023-03-01 00:07:22</td>\n",
       "      <td>2023-03-01 00:22:28.291385</td>\n",
       "      <td>Wednesday</td>\n",
       "    </tr>\n",
       "    <tr>\n",
       "      <th>3</th>\n",
       "      <td>1523114</td>\n",
       "      <td>2023-03-01 00:07:47</td>\n",
       "      <td>2023-03-01 00:46:19.019399</td>\n",
       "      <td>Wednesday</td>\n",
       "    </tr>\n",
       "    <tr>\n",
       "      <th>4</th>\n",
       "      <td>1523115</td>\n",
       "      <td>2023-03-01 00:09:03</td>\n",
       "      <td>2023-03-01 00:25:13.619056</td>\n",
       "      <td>Wednesday</td>\n",
       "    </tr>\n",
       "    <tr>\n",
       "      <th>...</th>\n",
       "      <td>...</td>\n",
       "      <td>...</td>\n",
       "      <td>...</td>\n",
       "      <td>...</td>\n",
       "    </tr>\n",
       "    <tr>\n",
       "      <th>14995</th>\n",
       "      <td>1538106</td>\n",
       "      <td>2023-03-27 23:37:05</td>\n",
       "      <td>2023-03-27 23:52:37.409378</td>\n",
       "      <td>Monday</td>\n",
       "    </tr>\n",
       "    <tr>\n",
       "      <th>14996</th>\n",
       "      <td>1538107</td>\n",
       "      <td>2023-03-27 23:47:38</td>\n",
       "      <td>2023-03-28 00:04:22.672912</td>\n",
       "      <td>Monday</td>\n",
       "    </tr>\n",
       "    <tr>\n",
       "      <th>14997</th>\n",
       "      <td>1538108</td>\n",
       "      <td>2023-03-27 23:50:16</td>\n",
       "      <td>2023-03-28 00:05:40.676238</td>\n",
       "      <td>Monday</td>\n",
       "    </tr>\n",
       "    <tr>\n",
       "      <th>14998</th>\n",
       "      <td>1538109</td>\n",
       "      <td>2023-03-27 23:52:44</td>\n",
       "      <td>2023-03-28 00:08:41.810358</td>\n",
       "      <td>Monday</td>\n",
       "    </tr>\n",
       "    <tr>\n",
       "      <th>14999</th>\n",
       "      <td>1538110</td>\n",
       "      <td>2023-03-27 23:58:20</td>\n",
       "      <td>2023-03-28 00:13:42.499311</td>\n",
       "      <td>Monday</td>\n",
       "    </tr>\n",
       "  </tbody>\n",
       "</table>\n",
       "<p>15000 rows × 4 columns</p>\n",
       "</div>"
      ],
      "text/plain": [
       "       order_id     order_placed_at         order_delivered_at  \\\n",
       "0       1523111 2023-03-01 00:00:59 2023-03-01 00:18:07.443132   \n",
       "1       1523112 2023-03-01 00:03:59 2023-03-01 00:19:34.925241   \n",
       "2       1523113 2023-03-01 00:07:22 2023-03-01 00:22:28.291385   \n",
       "3       1523114 2023-03-01 00:07:47 2023-03-01 00:46:19.019399   \n",
       "4       1523115 2023-03-01 00:09:03 2023-03-01 00:25:13.619056   \n",
       "...         ...                 ...                        ...   \n",
       "14995   1538106 2023-03-27 23:37:05 2023-03-27 23:52:37.409378   \n",
       "14996   1538107 2023-03-27 23:47:38 2023-03-28 00:04:22.672912   \n",
       "14997   1538108 2023-03-27 23:50:16 2023-03-28 00:05:40.676238   \n",
       "14998   1538109 2023-03-27 23:52:44 2023-03-28 00:08:41.810358   \n",
       "14999   1538110 2023-03-27 23:58:20 2023-03-28 00:13:42.499311   \n",
       "\n",
       "      days_at_order_placed  \n",
       "0                Wednesday  \n",
       "1                Wednesday  \n",
       "2                Wednesday  \n",
       "3                Wednesday  \n",
       "4                Wednesday  \n",
       "...                    ...  \n",
       "14995               Monday  \n",
       "14996               Monday  \n",
       "14997               Monday  \n",
       "14998               Monday  \n",
       "14999               Monday  \n",
       "\n",
       "[15000 rows x 4 columns]"
      ]
     },
     "execution_count": 15,
     "metadata": {},
     "output_type": "execute_result"
    }
   ],
   "source": [
    "df"
   ]
  },
  {
   "cell_type": "code",
   "execution_count": 16,
   "id": "536a0c82-1627-4880-becc-cc2a525e40d5",
   "metadata": {},
   "outputs": [],
   "source": [
    "df['time_order_placed_at']=df['order_placed_at'].dt.time"
   ]
  },
  {
   "cell_type": "code",
   "execution_count": 17,
   "id": "8ab7c62f-d678-4d34-8db9-f70ccd4ce282",
   "metadata": {},
   "outputs": [],
   "source": [
    "df['days_at_order_delivered']= df['order_delivered_at'].dt.strftime('%A')"
   ]
  },
  {
   "cell_type": "code",
   "execution_count": 18,
   "id": "4eeff817-8e42-46d3-9cc0-3e21ddc49139",
   "metadata": {},
   "outputs": [],
   "source": [
    "df['time_order_delivered_at']=df['order_delivered_at'].dt.time"
   ]
  },
  {
   "cell_type": "code",
   "execution_count": 19,
   "id": "3fbc521e-c9cb-40b1-9fa8-a9af8a7527ca",
   "metadata": {},
   "outputs": [
    {
     "data": {
      "text/html": [
       "<div>\n",
       "<style scoped>\n",
       "    .dataframe tbody tr th:only-of-type {\n",
       "        vertical-align: middle;\n",
       "    }\n",
       "\n",
       "    .dataframe tbody tr th {\n",
       "        vertical-align: top;\n",
       "    }\n",
       "\n",
       "    .dataframe thead th {\n",
       "        text-align: right;\n",
       "    }\n",
       "</style>\n",
       "<table border=\"1\" class=\"dataframe\">\n",
       "  <thead>\n",
       "    <tr style=\"text-align: right;\">\n",
       "      <th></th>\n",
       "      <th>order_id</th>\n",
       "      <th>order_placed_at</th>\n",
       "      <th>order_delivered_at</th>\n",
       "      <th>days_at_order_placed</th>\n",
       "      <th>time_order_placed_at</th>\n",
       "      <th>days_at_order_delivered</th>\n",
       "      <th>time_order_delivered_at</th>\n",
       "    </tr>\n",
       "  </thead>\n",
       "  <tbody>\n",
       "    <tr>\n",
       "      <th>0</th>\n",
       "      <td>1523111</td>\n",
       "      <td>2023-03-01 00:00:59</td>\n",
       "      <td>2023-03-01 00:18:07.443132</td>\n",
       "      <td>Wednesday</td>\n",
       "      <td>00:00:59</td>\n",
       "      <td>Wednesday</td>\n",
       "      <td>00:18:07.443132</td>\n",
       "    </tr>\n",
       "    <tr>\n",
       "      <th>1</th>\n",
       "      <td>1523112</td>\n",
       "      <td>2023-03-01 00:03:59</td>\n",
       "      <td>2023-03-01 00:19:34.925241</td>\n",
       "      <td>Wednesday</td>\n",
       "      <td>00:03:59</td>\n",
       "      <td>Wednesday</td>\n",
       "      <td>00:19:34.925241</td>\n",
       "    </tr>\n",
       "    <tr>\n",
       "      <th>2</th>\n",
       "      <td>1523113</td>\n",
       "      <td>2023-03-01 00:07:22</td>\n",
       "      <td>2023-03-01 00:22:28.291385</td>\n",
       "      <td>Wednesday</td>\n",
       "      <td>00:07:22</td>\n",
       "      <td>Wednesday</td>\n",
       "      <td>00:22:28.291385</td>\n",
       "    </tr>\n",
       "    <tr>\n",
       "      <th>3</th>\n",
       "      <td>1523114</td>\n",
       "      <td>2023-03-01 00:07:47</td>\n",
       "      <td>2023-03-01 00:46:19.019399</td>\n",
       "      <td>Wednesday</td>\n",
       "      <td>00:07:47</td>\n",
       "      <td>Wednesday</td>\n",
       "      <td>00:46:19.019399</td>\n",
       "    </tr>\n",
       "    <tr>\n",
       "      <th>4</th>\n",
       "      <td>1523115</td>\n",
       "      <td>2023-03-01 00:09:03</td>\n",
       "      <td>2023-03-01 00:25:13.619056</td>\n",
       "      <td>Wednesday</td>\n",
       "      <td>00:09:03</td>\n",
       "      <td>Wednesday</td>\n",
       "      <td>00:25:13.619056</td>\n",
       "    </tr>\n",
       "    <tr>\n",
       "      <th>...</th>\n",
       "      <td>...</td>\n",
       "      <td>...</td>\n",
       "      <td>...</td>\n",
       "      <td>...</td>\n",
       "      <td>...</td>\n",
       "      <td>...</td>\n",
       "      <td>...</td>\n",
       "    </tr>\n",
       "    <tr>\n",
       "      <th>14995</th>\n",
       "      <td>1538106</td>\n",
       "      <td>2023-03-27 23:37:05</td>\n",
       "      <td>2023-03-27 23:52:37.409378</td>\n",
       "      <td>Monday</td>\n",
       "      <td>23:37:05</td>\n",
       "      <td>Monday</td>\n",
       "      <td>23:52:37.409378</td>\n",
       "    </tr>\n",
       "    <tr>\n",
       "      <th>14996</th>\n",
       "      <td>1538107</td>\n",
       "      <td>2023-03-27 23:47:38</td>\n",
       "      <td>2023-03-28 00:04:22.672912</td>\n",
       "      <td>Monday</td>\n",
       "      <td>23:47:38</td>\n",
       "      <td>Tuesday</td>\n",
       "      <td>00:04:22.672912</td>\n",
       "    </tr>\n",
       "    <tr>\n",
       "      <th>14997</th>\n",
       "      <td>1538108</td>\n",
       "      <td>2023-03-27 23:50:16</td>\n",
       "      <td>2023-03-28 00:05:40.676238</td>\n",
       "      <td>Monday</td>\n",
       "      <td>23:50:16</td>\n",
       "      <td>Tuesday</td>\n",
       "      <td>00:05:40.676238</td>\n",
       "    </tr>\n",
       "    <tr>\n",
       "      <th>14998</th>\n",
       "      <td>1538109</td>\n",
       "      <td>2023-03-27 23:52:44</td>\n",
       "      <td>2023-03-28 00:08:41.810358</td>\n",
       "      <td>Monday</td>\n",
       "      <td>23:52:44</td>\n",
       "      <td>Tuesday</td>\n",
       "      <td>00:08:41.810358</td>\n",
       "    </tr>\n",
       "    <tr>\n",
       "      <th>14999</th>\n",
       "      <td>1538110</td>\n",
       "      <td>2023-03-27 23:58:20</td>\n",
       "      <td>2023-03-28 00:13:42.499311</td>\n",
       "      <td>Monday</td>\n",
       "      <td>23:58:20</td>\n",
       "      <td>Tuesday</td>\n",
       "      <td>00:13:42.499311</td>\n",
       "    </tr>\n",
       "  </tbody>\n",
       "</table>\n",
       "<p>15000 rows × 7 columns</p>\n",
       "</div>"
      ],
      "text/plain": [
       "       order_id     order_placed_at         order_delivered_at  \\\n",
       "0       1523111 2023-03-01 00:00:59 2023-03-01 00:18:07.443132   \n",
       "1       1523112 2023-03-01 00:03:59 2023-03-01 00:19:34.925241   \n",
       "2       1523113 2023-03-01 00:07:22 2023-03-01 00:22:28.291385   \n",
       "3       1523114 2023-03-01 00:07:47 2023-03-01 00:46:19.019399   \n",
       "4       1523115 2023-03-01 00:09:03 2023-03-01 00:25:13.619056   \n",
       "...         ...                 ...                        ...   \n",
       "14995   1538106 2023-03-27 23:37:05 2023-03-27 23:52:37.409378   \n",
       "14996   1538107 2023-03-27 23:47:38 2023-03-28 00:04:22.672912   \n",
       "14997   1538108 2023-03-27 23:50:16 2023-03-28 00:05:40.676238   \n",
       "14998   1538109 2023-03-27 23:52:44 2023-03-28 00:08:41.810358   \n",
       "14999   1538110 2023-03-27 23:58:20 2023-03-28 00:13:42.499311   \n",
       "\n",
       "      days_at_order_placed time_order_placed_at days_at_order_delivered  \\\n",
       "0                Wednesday             00:00:59               Wednesday   \n",
       "1                Wednesday             00:03:59               Wednesday   \n",
       "2                Wednesday             00:07:22               Wednesday   \n",
       "3                Wednesday             00:07:47               Wednesday   \n",
       "4                Wednesday             00:09:03               Wednesday   \n",
       "...                    ...                  ...                     ...   \n",
       "14995               Monday             23:37:05                  Monday   \n",
       "14996               Monday             23:47:38                 Tuesday   \n",
       "14997               Monday             23:50:16                 Tuesday   \n",
       "14998               Monday             23:52:44                 Tuesday   \n",
       "14999               Monday             23:58:20                 Tuesday   \n",
       "\n",
       "      time_order_delivered_at  \n",
       "0             00:18:07.443132  \n",
       "1             00:19:34.925241  \n",
       "2             00:22:28.291385  \n",
       "3             00:46:19.019399  \n",
       "4             00:25:13.619056  \n",
       "...                       ...  \n",
       "14995         23:52:37.409378  \n",
       "14996         00:04:22.672912  \n",
       "14997         00:05:40.676238  \n",
       "14998         00:08:41.810358  \n",
       "14999         00:13:42.499311  \n",
       "\n",
       "[15000 rows x 7 columns]"
      ]
     },
     "execution_count": 19,
     "metadata": {},
     "output_type": "execute_result"
    }
   ],
   "source": [
    "df"
   ]
  },
  {
   "cell_type": "code",
   "execution_count": 20,
   "id": "14480562-12cf-428f-bd26-6c9b1e4af85c",
   "metadata": {},
   "outputs": [
    {
     "name": "stderr",
     "output_type": "stream",
     "text": [
      "C:\\Users\\LENOVO X1 YOGA\\AppData\\Local\\Temp\\ipykernel_11876\\1912616968.py:1: FutureWarning: Series.dt.weekofyear and Series.dt.week have been deprecated. Please use Series.dt.isocalendar().week instead.\n",
      "  df['order_placed_at'].dt.week\n"
     ]
    },
    {
     "data": {
      "text/plain": [
       "0         9\n",
       "1         9\n",
       "2         9\n",
       "3         9\n",
       "4         9\n",
       "         ..\n",
       "14995    13\n",
       "14996    13\n",
       "14997    13\n",
       "14998    13\n",
       "14999    13\n",
       "Name: order_placed_at, Length: 15000, dtype: int64"
      ]
     },
     "execution_count": 20,
     "metadata": {},
     "output_type": "execute_result"
    }
   ],
   "source": [
    "df['order_placed_at'].dt.week"
   ]
  },
  {
   "cell_type": "code",
   "execution_count": 64,
   "id": "7155ef79-7b8e-4c63-9fe6-cb06433934e4",
   "metadata": {},
   "outputs": [
    {
     "name": "stderr",
     "output_type": "stream",
     "text": [
      "C:\\Users\\LENOVO X1 YOGA\\AppData\\Local\\Temp\\ipykernel_11876\\2996611272.py:1: FutureWarning: Series.dt.weekofyear and Series.dt.week have been deprecated. Please use Series.dt.isocalendar().week instead.\n",
      "  df['week_order_placed_at'] = (df['order_placed_at'].dt.weekofyear - df['order_placed_at'].dt.weekofyear.min()) + 1\n",
      "C:\\Users\\LENOVO X1 YOGA\\AppData\\Local\\Temp\\ipykernel_11876\\2996611272.py:1: FutureWarning: Series.dt.weekofyear and Series.dt.week have been deprecated. Please use Series.dt.isocalendar().week instead.\n",
      "  df['week_order_placed_at'] = (df['order_placed_at'].dt.weekofyear - df['order_placed_at'].dt.weekofyear.min()) + 1\n"
     ]
    }
   ],
   "source": [
    "df['week_order_placed_at'] = (df['order_placed_at'].dt.weekofyear - df['order_placed_at'].dt.weekofyear.min()) + 1\n"
   ]
  },
  {
   "cell_type": "code",
   "execution_count": 22,
   "id": "597dd75b-f18f-4955-87f2-e89c8992ec7b",
   "metadata": {},
   "outputs": [
    {
     "data": {
      "text/html": [
       "<div>\n",
       "<style scoped>\n",
       "    .dataframe tbody tr th:only-of-type {\n",
       "        vertical-align: middle;\n",
       "    }\n",
       "\n",
       "    .dataframe tbody tr th {\n",
       "        vertical-align: top;\n",
       "    }\n",
       "\n",
       "    .dataframe thead th {\n",
       "        text-align: right;\n",
       "    }\n",
       "</style>\n",
       "<table border=\"1\" class=\"dataframe\">\n",
       "  <thead>\n",
       "    <tr style=\"text-align: right;\">\n",
       "      <th></th>\n",
       "      <th>order_id</th>\n",
       "      <th>order_placed_at</th>\n",
       "      <th>order_delivered_at</th>\n",
       "      <th>days_at_order_placed</th>\n",
       "      <th>time_order_placed_at</th>\n",
       "      <th>days_at_order_delivered</th>\n",
       "      <th>time_order_delivered_at</th>\n",
       "      <th>week_order_placed_at</th>\n",
       "    </tr>\n",
       "  </thead>\n",
       "  <tbody>\n",
       "    <tr>\n",
       "      <th>0</th>\n",
       "      <td>1523111</td>\n",
       "      <td>2023-03-01 00:00:59</td>\n",
       "      <td>2023-03-01 00:18:07.443132</td>\n",
       "      <td>Wednesday</td>\n",
       "      <td>00:00:59</td>\n",
       "      <td>Wednesday</td>\n",
       "      <td>00:18:07.443132</td>\n",
       "      <td>1</td>\n",
       "    </tr>\n",
       "    <tr>\n",
       "      <th>1</th>\n",
       "      <td>1523112</td>\n",
       "      <td>2023-03-01 00:03:59</td>\n",
       "      <td>2023-03-01 00:19:34.925241</td>\n",
       "      <td>Wednesday</td>\n",
       "      <td>00:03:59</td>\n",
       "      <td>Wednesday</td>\n",
       "      <td>00:19:34.925241</td>\n",
       "      <td>1</td>\n",
       "    </tr>\n",
       "    <tr>\n",
       "      <th>2</th>\n",
       "      <td>1523113</td>\n",
       "      <td>2023-03-01 00:07:22</td>\n",
       "      <td>2023-03-01 00:22:28.291385</td>\n",
       "      <td>Wednesday</td>\n",
       "      <td>00:07:22</td>\n",
       "      <td>Wednesday</td>\n",
       "      <td>00:22:28.291385</td>\n",
       "      <td>1</td>\n",
       "    </tr>\n",
       "    <tr>\n",
       "      <th>3</th>\n",
       "      <td>1523114</td>\n",
       "      <td>2023-03-01 00:07:47</td>\n",
       "      <td>2023-03-01 00:46:19.019399</td>\n",
       "      <td>Wednesday</td>\n",
       "      <td>00:07:47</td>\n",
       "      <td>Wednesday</td>\n",
       "      <td>00:46:19.019399</td>\n",
       "      <td>1</td>\n",
       "    </tr>\n",
       "    <tr>\n",
       "      <th>4</th>\n",
       "      <td>1523115</td>\n",
       "      <td>2023-03-01 00:09:03</td>\n",
       "      <td>2023-03-01 00:25:13.619056</td>\n",
       "      <td>Wednesday</td>\n",
       "      <td>00:09:03</td>\n",
       "      <td>Wednesday</td>\n",
       "      <td>00:25:13.619056</td>\n",
       "      <td>1</td>\n",
       "    </tr>\n",
       "    <tr>\n",
       "      <th>...</th>\n",
       "      <td>...</td>\n",
       "      <td>...</td>\n",
       "      <td>...</td>\n",
       "      <td>...</td>\n",
       "      <td>...</td>\n",
       "      <td>...</td>\n",
       "      <td>...</td>\n",
       "      <td>...</td>\n",
       "    </tr>\n",
       "    <tr>\n",
       "      <th>14995</th>\n",
       "      <td>1538106</td>\n",
       "      <td>2023-03-27 23:37:05</td>\n",
       "      <td>2023-03-27 23:52:37.409378</td>\n",
       "      <td>Monday</td>\n",
       "      <td>23:37:05</td>\n",
       "      <td>Monday</td>\n",
       "      <td>23:52:37.409378</td>\n",
       "      <td>2</td>\n",
       "    </tr>\n",
       "    <tr>\n",
       "      <th>14996</th>\n",
       "      <td>1538107</td>\n",
       "      <td>2023-03-27 23:47:38</td>\n",
       "      <td>2023-03-28 00:04:22.672912</td>\n",
       "      <td>Monday</td>\n",
       "      <td>23:47:38</td>\n",
       "      <td>Tuesday</td>\n",
       "      <td>00:04:22.672912</td>\n",
       "      <td>2</td>\n",
       "    </tr>\n",
       "    <tr>\n",
       "      <th>14997</th>\n",
       "      <td>1538108</td>\n",
       "      <td>2023-03-27 23:50:16</td>\n",
       "      <td>2023-03-28 00:05:40.676238</td>\n",
       "      <td>Monday</td>\n",
       "      <td>23:50:16</td>\n",
       "      <td>Tuesday</td>\n",
       "      <td>00:05:40.676238</td>\n",
       "      <td>2</td>\n",
       "    </tr>\n",
       "    <tr>\n",
       "      <th>14998</th>\n",
       "      <td>1538109</td>\n",
       "      <td>2023-03-27 23:52:44</td>\n",
       "      <td>2023-03-28 00:08:41.810358</td>\n",
       "      <td>Monday</td>\n",
       "      <td>23:52:44</td>\n",
       "      <td>Tuesday</td>\n",
       "      <td>00:08:41.810358</td>\n",
       "      <td>2</td>\n",
       "    </tr>\n",
       "    <tr>\n",
       "      <th>14999</th>\n",
       "      <td>1538110</td>\n",
       "      <td>2023-03-27 23:58:20</td>\n",
       "      <td>2023-03-28 00:13:42.499311</td>\n",
       "      <td>Monday</td>\n",
       "      <td>23:58:20</td>\n",
       "      <td>Tuesday</td>\n",
       "      <td>00:13:42.499311</td>\n",
       "      <td>2</td>\n",
       "    </tr>\n",
       "  </tbody>\n",
       "</table>\n",
       "<p>15000 rows × 8 columns</p>\n",
       "</div>"
      ],
      "text/plain": [
       "       order_id     order_placed_at         order_delivered_at  \\\n",
       "0       1523111 2023-03-01 00:00:59 2023-03-01 00:18:07.443132   \n",
       "1       1523112 2023-03-01 00:03:59 2023-03-01 00:19:34.925241   \n",
       "2       1523113 2023-03-01 00:07:22 2023-03-01 00:22:28.291385   \n",
       "3       1523114 2023-03-01 00:07:47 2023-03-01 00:46:19.019399   \n",
       "4       1523115 2023-03-01 00:09:03 2023-03-01 00:25:13.619056   \n",
       "...         ...                 ...                        ...   \n",
       "14995   1538106 2023-03-27 23:37:05 2023-03-27 23:52:37.409378   \n",
       "14996   1538107 2023-03-27 23:47:38 2023-03-28 00:04:22.672912   \n",
       "14997   1538108 2023-03-27 23:50:16 2023-03-28 00:05:40.676238   \n",
       "14998   1538109 2023-03-27 23:52:44 2023-03-28 00:08:41.810358   \n",
       "14999   1538110 2023-03-27 23:58:20 2023-03-28 00:13:42.499311   \n",
       "\n",
       "      days_at_order_placed time_order_placed_at days_at_order_delivered  \\\n",
       "0                Wednesday             00:00:59               Wednesday   \n",
       "1                Wednesday             00:03:59               Wednesday   \n",
       "2                Wednesday             00:07:22               Wednesday   \n",
       "3                Wednesday             00:07:47               Wednesday   \n",
       "4                Wednesday             00:09:03               Wednesday   \n",
       "...                    ...                  ...                     ...   \n",
       "14995               Monday             23:37:05                  Monday   \n",
       "14996               Monday             23:47:38                 Tuesday   \n",
       "14997               Monday             23:50:16                 Tuesday   \n",
       "14998               Monday             23:52:44                 Tuesday   \n",
       "14999               Monday             23:58:20                 Tuesday   \n",
       "\n",
       "      time_order_delivered_at  week_order_placed_at  \n",
       "0             00:18:07.443132                     1  \n",
       "1             00:19:34.925241                     1  \n",
       "2             00:22:28.291385                     1  \n",
       "3             00:46:19.019399                     1  \n",
       "4             00:25:13.619056                     1  \n",
       "...                       ...                   ...  \n",
       "14995         23:52:37.409378                     2  \n",
       "14996         00:04:22.672912                     2  \n",
       "14997         00:05:40.676238                     2  \n",
       "14998         00:08:41.810358                     2  \n",
       "14999         00:13:42.499311                     2  \n",
       "\n",
       "[15000 rows x 8 columns]"
      ]
     },
     "execution_count": 22,
     "metadata": {},
     "output_type": "execute_result"
    }
   ],
   "source": [
    "df"
   ]
  },
  {
   "cell_type": "code",
   "execution_count": null,
   "id": "be3da305-0714-452b-a1f0-b2b82ecf8185",
   "metadata": {},
   "outputs": [],
   "source": []
  },
  {
   "cell_type": "code",
   "execution_count": null,
   "id": "214e3913-cd4f-4058-9158-cba2faa2f19a",
   "metadata": {},
   "outputs": [],
   "source": [
    " "
   ]
  },
  {
   "cell_type": "code",
   "execution_count": null,
   "id": "7ea3a64e-7b18-401a-916f-affa57c57d02",
   "metadata": {},
   "outputs": [],
   "source": []
  },
  {
   "cell_type": "code",
   "execution_count": 23,
   "id": "15f7f1b7-b77f-42ca-bce2-38241c686d3c",
   "metadata": {},
   "outputs": [
    {
     "data": {
      "text/html": [
       "<div>\n",
       "<style scoped>\n",
       "    .dataframe tbody tr th:only-of-type {\n",
       "        vertical-align: middle;\n",
       "    }\n",
       "\n",
       "    .dataframe tbody tr th {\n",
       "        vertical-align: top;\n",
       "    }\n",
       "\n",
       "    .dataframe thead th {\n",
       "        text-align: right;\n",
       "    }\n",
       "</style>\n",
       "<table border=\"1\" class=\"dataframe\">\n",
       "  <thead>\n",
       "    <tr style=\"text-align: right;\">\n",
       "      <th></th>\n",
       "      <th>order_id</th>\n",
       "      <th>order_placed_at</th>\n",
       "      <th>order_delivered_at</th>\n",
       "      <th>days_at_order_placed</th>\n",
       "      <th>time_order_placed_at</th>\n",
       "      <th>days_at_order_delivered</th>\n",
       "      <th>time_order_delivered_at</th>\n",
       "      <th>week_order_placed_at</th>\n",
       "    </tr>\n",
       "  </thead>\n",
       "  <tbody>\n",
       "    <tr>\n",
       "      <th>0</th>\n",
       "      <td>1523111</td>\n",
       "      <td>2023-03-01 00:00:59</td>\n",
       "      <td>2023-03-01 00:18:07.443132</td>\n",
       "      <td>Wednesday</td>\n",
       "      <td>00:00:59</td>\n",
       "      <td>Wednesday</td>\n",
       "      <td>00:18:07.443132</td>\n",
       "      <td>1</td>\n",
       "    </tr>\n",
       "    <tr>\n",
       "      <th>1</th>\n",
       "      <td>1523112</td>\n",
       "      <td>2023-03-01 00:03:59</td>\n",
       "      <td>2023-03-01 00:19:34.925241</td>\n",
       "      <td>Wednesday</td>\n",
       "      <td>00:03:59</td>\n",
       "      <td>Wednesday</td>\n",
       "      <td>00:19:34.925241</td>\n",
       "      <td>1</td>\n",
       "    </tr>\n",
       "    <tr>\n",
       "      <th>2</th>\n",
       "      <td>1523113</td>\n",
       "      <td>2023-03-01 00:07:22</td>\n",
       "      <td>2023-03-01 00:22:28.291385</td>\n",
       "      <td>Wednesday</td>\n",
       "      <td>00:07:22</td>\n",
       "      <td>Wednesday</td>\n",
       "      <td>00:22:28.291385</td>\n",
       "      <td>1</td>\n",
       "    </tr>\n",
       "    <tr>\n",
       "      <th>3</th>\n",
       "      <td>1523114</td>\n",
       "      <td>2023-03-01 00:07:47</td>\n",
       "      <td>2023-03-01 00:46:19.019399</td>\n",
       "      <td>Wednesday</td>\n",
       "      <td>00:07:47</td>\n",
       "      <td>Wednesday</td>\n",
       "      <td>00:46:19.019399</td>\n",
       "      <td>1</td>\n",
       "    </tr>\n",
       "    <tr>\n",
       "      <th>4</th>\n",
       "      <td>1523115</td>\n",
       "      <td>2023-03-01 00:09:03</td>\n",
       "      <td>2023-03-01 00:25:13.619056</td>\n",
       "      <td>Wednesday</td>\n",
       "      <td>00:09:03</td>\n",
       "      <td>Wednesday</td>\n",
       "      <td>00:25:13.619056</td>\n",
       "      <td>1</td>\n",
       "    </tr>\n",
       "    <tr>\n",
       "      <th>...</th>\n",
       "      <td>...</td>\n",
       "      <td>...</td>\n",
       "      <td>...</td>\n",
       "      <td>...</td>\n",
       "      <td>...</td>\n",
       "      <td>...</td>\n",
       "      <td>...</td>\n",
       "      <td>...</td>\n",
       "    </tr>\n",
       "    <tr>\n",
       "      <th>14995</th>\n",
       "      <td>1538106</td>\n",
       "      <td>2023-03-27 23:37:05</td>\n",
       "      <td>2023-03-27 23:52:37.409378</td>\n",
       "      <td>Monday</td>\n",
       "      <td>23:37:05</td>\n",
       "      <td>Monday</td>\n",
       "      <td>23:52:37.409378</td>\n",
       "      <td>2</td>\n",
       "    </tr>\n",
       "    <tr>\n",
       "      <th>14996</th>\n",
       "      <td>1538107</td>\n",
       "      <td>2023-03-27 23:47:38</td>\n",
       "      <td>2023-03-28 00:04:22.672912</td>\n",
       "      <td>Monday</td>\n",
       "      <td>23:47:38</td>\n",
       "      <td>Tuesday</td>\n",
       "      <td>00:04:22.672912</td>\n",
       "      <td>2</td>\n",
       "    </tr>\n",
       "    <tr>\n",
       "      <th>14997</th>\n",
       "      <td>1538108</td>\n",
       "      <td>2023-03-27 23:50:16</td>\n",
       "      <td>2023-03-28 00:05:40.676238</td>\n",
       "      <td>Monday</td>\n",
       "      <td>23:50:16</td>\n",
       "      <td>Tuesday</td>\n",
       "      <td>00:05:40.676238</td>\n",
       "      <td>2</td>\n",
       "    </tr>\n",
       "    <tr>\n",
       "      <th>14998</th>\n",
       "      <td>1538109</td>\n",
       "      <td>2023-03-27 23:52:44</td>\n",
       "      <td>2023-03-28 00:08:41.810358</td>\n",
       "      <td>Monday</td>\n",
       "      <td>23:52:44</td>\n",
       "      <td>Tuesday</td>\n",
       "      <td>00:08:41.810358</td>\n",
       "      <td>2</td>\n",
       "    </tr>\n",
       "    <tr>\n",
       "      <th>14999</th>\n",
       "      <td>1538110</td>\n",
       "      <td>2023-03-27 23:58:20</td>\n",
       "      <td>2023-03-28 00:13:42.499311</td>\n",
       "      <td>Monday</td>\n",
       "      <td>23:58:20</td>\n",
       "      <td>Tuesday</td>\n",
       "      <td>00:13:42.499311</td>\n",
       "      <td>2</td>\n",
       "    </tr>\n",
       "  </tbody>\n",
       "</table>\n",
       "<p>15000 rows × 8 columns</p>\n",
       "</div>"
      ],
      "text/plain": [
       "       order_id     order_placed_at         order_delivered_at  \\\n",
       "0       1523111 2023-03-01 00:00:59 2023-03-01 00:18:07.443132   \n",
       "1       1523112 2023-03-01 00:03:59 2023-03-01 00:19:34.925241   \n",
       "2       1523113 2023-03-01 00:07:22 2023-03-01 00:22:28.291385   \n",
       "3       1523114 2023-03-01 00:07:47 2023-03-01 00:46:19.019399   \n",
       "4       1523115 2023-03-01 00:09:03 2023-03-01 00:25:13.619056   \n",
       "...         ...                 ...                        ...   \n",
       "14995   1538106 2023-03-27 23:37:05 2023-03-27 23:52:37.409378   \n",
       "14996   1538107 2023-03-27 23:47:38 2023-03-28 00:04:22.672912   \n",
       "14997   1538108 2023-03-27 23:50:16 2023-03-28 00:05:40.676238   \n",
       "14998   1538109 2023-03-27 23:52:44 2023-03-28 00:08:41.810358   \n",
       "14999   1538110 2023-03-27 23:58:20 2023-03-28 00:13:42.499311   \n",
       "\n",
       "      days_at_order_placed time_order_placed_at days_at_order_delivered  \\\n",
       "0                Wednesday             00:00:59               Wednesday   \n",
       "1                Wednesday             00:03:59               Wednesday   \n",
       "2                Wednesday             00:07:22               Wednesday   \n",
       "3                Wednesday             00:07:47               Wednesday   \n",
       "4                Wednesday             00:09:03               Wednesday   \n",
       "...                    ...                  ...                     ...   \n",
       "14995               Monday             23:37:05                  Monday   \n",
       "14996               Monday             23:47:38                 Tuesday   \n",
       "14997               Monday             23:50:16                 Tuesday   \n",
       "14998               Monday             23:52:44                 Tuesday   \n",
       "14999               Monday             23:58:20                 Tuesday   \n",
       "\n",
       "      time_order_delivered_at  week_order_placed_at  \n",
       "0             00:18:07.443132                     1  \n",
       "1             00:19:34.925241                     1  \n",
       "2             00:22:28.291385                     1  \n",
       "3             00:46:19.019399                     1  \n",
       "4             00:25:13.619056                     1  \n",
       "...                       ...                   ...  \n",
       "14995         23:52:37.409378                     2  \n",
       "14996         00:04:22.672912                     2  \n",
       "14997         00:05:40.676238                     2  \n",
       "14998         00:08:41.810358                     2  \n",
       "14999         00:13:42.499311                     2  \n",
       "\n",
       "[15000 rows x 8 columns]"
      ]
     },
     "execution_count": 23,
     "metadata": {},
     "output_type": "execute_result"
    }
   ],
   "source": [
    "df"
   ]
  },
  {
   "cell_type": "code",
   "execution_count": 24,
   "id": "a0ef950f-2067-43de-9665-cdc1875187aa",
   "metadata": {},
   "outputs": [
    {
     "name": "stdout",
     "output_type": "stream",
     "text": [
      "<class 'pandas.core.frame.DataFrame'>\n",
      "RangeIndex: 15000 entries, 0 to 14999\n",
      "Data columns (total 8 columns):\n",
      " #   Column                   Non-Null Count  Dtype         \n",
      "---  ------                   --------------  -----         \n",
      " 0   order_id                 15000 non-null  int64         \n",
      " 1   order_placed_at          15000 non-null  datetime64[ns]\n",
      " 2   order_delivered_at       15000 non-null  datetime64[ns]\n",
      " 3   days_at_order_placed     15000 non-null  object        \n",
      " 4   time_order_placed_at     15000 non-null  object        \n",
      " 5   days_at_order_delivered  15000 non-null  object        \n",
      " 6   time_order_delivered_at  15000 non-null  object        \n",
      " 7   week_order_placed_at     15000 non-null  int64         \n",
      "dtypes: datetime64[ns](2), int64(2), object(4)\n",
      "memory usage: 937.6+ KB\n"
     ]
    }
   ],
   "source": [
    "df.info()"
   ]
  },
  {
   "cell_type": "code",
   "execution_count": 25,
   "id": "a189a242-7b69-4558-ae84-506c531ff9c6",
   "metadata": {},
   "outputs": [],
   "source": [
    "import datetime"
   ]
  },
  {
   "cell_type": "code",
   "execution_count": 26,
   "id": "2ddf2e87-f9ca-4323-93ab-820d2a10c96f",
   "metadata": {},
   "outputs": [],
   "source": [
    "df['time_order_placed_at']=pd.to_datetime(df['order_placed_at'], format='%H:%M').dt.time"
   ]
  },
  {
   "cell_type": "code",
   "execution_count": 27,
   "id": "bef5d6d7-ee34-42a6-9ac4-7fa4c32403ec",
   "metadata": {},
   "outputs": [],
   "source": [
    "df['time_order_delivered_at']=pd.to_datetime(df['order_delivered_at'], format='%H:%M').dt.time"
   ]
  },
  {
   "cell_type": "code",
   "execution_count": 30,
   "id": "af5d54f3-594c-4173-91c7-9c8ee8164438",
   "metadata": {},
   "outputs": [
    {
     "name": "stdout",
     "output_type": "stream",
     "text": [
      "<class 'pandas.core.frame.DataFrame'>\n",
      "RangeIndex: 15000 entries, 0 to 14999\n",
      "Data columns (total 8 columns):\n",
      " #   Column                   Non-Null Count  Dtype         \n",
      "---  ------                   --------------  -----         \n",
      " 0   order_id                 15000 non-null  int64         \n",
      " 1   order_placed_at          15000 non-null  datetime64[ns]\n",
      " 2   order_delivered_at       15000 non-null  datetime64[ns]\n",
      " 3   days_at_order_placed     15000 non-null  object        \n",
      " 4   time_order_placed_at     15000 non-null  object        \n",
      " 5   days_at_order_delivered  15000 non-null  object        \n",
      " 6   time_order_delivered_at  15000 non-null  object        \n",
      " 7   week_order_placed_at     15000 non-null  int64         \n",
      "dtypes: datetime64[ns](2), int64(2), object(4)\n",
      "memory usage: 937.6+ KB\n"
     ]
    }
   ],
   "source": [
    "df.info()"
   ]
  },
  {
   "cell_type": "code",
   "execution_count": 32,
   "id": "c6a2b041-430e-412a-ad92-583e820b3eef",
   "metadata": {},
   "outputs": [
    {
     "data": {
      "text/html": [
       "<div>\n",
       "<style scoped>\n",
       "    .dataframe tbody tr th:only-of-type {\n",
       "        vertical-align: middle;\n",
       "    }\n",
       "\n",
       "    .dataframe tbody tr th {\n",
       "        vertical-align: top;\n",
       "    }\n",
       "\n",
       "    .dataframe thead th {\n",
       "        text-align: right;\n",
       "    }\n",
       "</style>\n",
       "<table border=\"1\" class=\"dataframe\">\n",
       "  <thead>\n",
       "    <tr style=\"text-align: right;\">\n",
       "      <th></th>\n",
       "      <th>order_id</th>\n",
       "      <th>order_placed_at</th>\n",
       "      <th>order_delivered_at</th>\n",
       "      <th>days_at_order_placed</th>\n",
       "      <th>time_order_placed_at</th>\n",
       "      <th>days_at_order_delivered</th>\n",
       "      <th>time_order_delivered_at</th>\n",
       "      <th>week_order_placed_at</th>\n",
       "    </tr>\n",
       "  </thead>\n",
       "  <tbody>\n",
       "    <tr>\n",
       "      <th>0</th>\n",
       "      <td>1523111</td>\n",
       "      <td>2023-03-01 00:00:59</td>\n",
       "      <td>2023-03-01 00:18:07.443132</td>\n",
       "      <td>Wednesday</td>\n",
       "      <td>00:00:59</td>\n",
       "      <td>Wednesday</td>\n",
       "      <td>00:18:07.443132</td>\n",
       "      <td>1</td>\n",
       "    </tr>\n",
       "    <tr>\n",
       "      <th>1</th>\n",
       "      <td>1523112</td>\n",
       "      <td>2023-03-01 00:03:59</td>\n",
       "      <td>2023-03-01 00:19:34.925241</td>\n",
       "      <td>Wednesday</td>\n",
       "      <td>00:03:59</td>\n",
       "      <td>Wednesday</td>\n",
       "      <td>00:19:34.925241</td>\n",
       "      <td>1</td>\n",
       "    </tr>\n",
       "    <tr>\n",
       "      <th>2</th>\n",
       "      <td>1523113</td>\n",
       "      <td>2023-03-01 00:07:22</td>\n",
       "      <td>2023-03-01 00:22:28.291385</td>\n",
       "      <td>Wednesday</td>\n",
       "      <td>00:07:22</td>\n",
       "      <td>Wednesday</td>\n",
       "      <td>00:22:28.291385</td>\n",
       "      <td>1</td>\n",
       "    </tr>\n",
       "    <tr>\n",
       "      <th>3</th>\n",
       "      <td>1523114</td>\n",
       "      <td>2023-03-01 00:07:47</td>\n",
       "      <td>2023-03-01 00:46:19.019399</td>\n",
       "      <td>Wednesday</td>\n",
       "      <td>00:07:47</td>\n",
       "      <td>Wednesday</td>\n",
       "      <td>00:46:19.019399</td>\n",
       "      <td>1</td>\n",
       "    </tr>\n",
       "    <tr>\n",
       "      <th>4</th>\n",
       "      <td>1523115</td>\n",
       "      <td>2023-03-01 00:09:03</td>\n",
       "      <td>2023-03-01 00:25:13.619056</td>\n",
       "      <td>Wednesday</td>\n",
       "      <td>00:09:03</td>\n",
       "      <td>Wednesday</td>\n",
       "      <td>00:25:13.619056</td>\n",
       "      <td>1</td>\n",
       "    </tr>\n",
       "    <tr>\n",
       "      <th>...</th>\n",
       "      <td>...</td>\n",
       "      <td>...</td>\n",
       "      <td>...</td>\n",
       "      <td>...</td>\n",
       "      <td>...</td>\n",
       "      <td>...</td>\n",
       "      <td>...</td>\n",
       "      <td>...</td>\n",
       "    </tr>\n",
       "    <tr>\n",
       "      <th>14995</th>\n",
       "      <td>1538106</td>\n",
       "      <td>2023-03-27 23:37:05</td>\n",
       "      <td>2023-03-27 23:52:37.409378</td>\n",
       "      <td>Monday</td>\n",
       "      <td>23:37:05</td>\n",
       "      <td>Monday</td>\n",
       "      <td>23:52:37.409378</td>\n",
       "      <td>2</td>\n",
       "    </tr>\n",
       "    <tr>\n",
       "      <th>14996</th>\n",
       "      <td>1538107</td>\n",
       "      <td>2023-03-27 23:47:38</td>\n",
       "      <td>2023-03-28 00:04:22.672912</td>\n",
       "      <td>Monday</td>\n",
       "      <td>23:47:38</td>\n",
       "      <td>Tuesday</td>\n",
       "      <td>00:04:22.672912</td>\n",
       "      <td>2</td>\n",
       "    </tr>\n",
       "    <tr>\n",
       "      <th>14997</th>\n",
       "      <td>1538108</td>\n",
       "      <td>2023-03-27 23:50:16</td>\n",
       "      <td>2023-03-28 00:05:40.676238</td>\n",
       "      <td>Monday</td>\n",
       "      <td>23:50:16</td>\n",
       "      <td>Tuesday</td>\n",
       "      <td>00:05:40.676238</td>\n",
       "      <td>2</td>\n",
       "    </tr>\n",
       "    <tr>\n",
       "      <th>14998</th>\n",
       "      <td>1538109</td>\n",
       "      <td>2023-03-27 23:52:44</td>\n",
       "      <td>2023-03-28 00:08:41.810358</td>\n",
       "      <td>Monday</td>\n",
       "      <td>23:52:44</td>\n",
       "      <td>Tuesday</td>\n",
       "      <td>00:08:41.810358</td>\n",
       "      <td>2</td>\n",
       "    </tr>\n",
       "    <tr>\n",
       "      <th>14999</th>\n",
       "      <td>1538110</td>\n",
       "      <td>2023-03-27 23:58:20</td>\n",
       "      <td>2023-03-28 00:13:42.499311</td>\n",
       "      <td>Monday</td>\n",
       "      <td>23:58:20</td>\n",
       "      <td>Tuesday</td>\n",
       "      <td>00:13:42.499311</td>\n",
       "      <td>2</td>\n",
       "    </tr>\n",
       "  </tbody>\n",
       "</table>\n",
       "<p>15000 rows × 8 columns</p>\n",
       "</div>"
      ],
      "text/plain": [
       "       order_id     order_placed_at         order_delivered_at  \\\n",
       "0       1523111 2023-03-01 00:00:59 2023-03-01 00:18:07.443132   \n",
       "1       1523112 2023-03-01 00:03:59 2023-03-01 00:19:34.925241   \n",
       "2       1523113 2023-03-01 00:07:22 2023-03-01 00:22:28.291385   \n",
       "3       1523114 2023-03-01 00:07:47 2023-03-01 00:46:19.019399   \n",
       "4       1523115 2023-03-01 00:09:03 2023-03-01 00:25:13.619056   \n",
       "...         ...                 ...                        ...   \n",
       "14995   1538106 2023-03-27 23:37:05 2023-03-27 23:52:37.409378   \n",
       "14996   1538107 2023-03-27 23:47:38 2023-03-28 00:04:22.672912   \n",
       "14997   1538108 2023-03-27 23:50:16 2023-03-28 00:05:40.676238   \n",
       "14998   1538109 2023-03-27 23:52:44 2023-03-28 00:08:41.810358   \n",
       "14999   1538110 2023-03-27 23:58:20 2023-03-28 00:13:42.499311   \n",
       "\n",
       "      days_at_order_placed time_order_placed_at days_at_order_delivered  \\\n",
       "0                Wednesday             00:00:59               Wednesday   \n",
       "1                Wednesday             00:03:59               Wednesday   \n",
       "2                Wednesday             00:07:22               Wednesday   \n",
       "3                Wednesday             00:07:47               Wednesday   \n",
       "4                Wednesday             00:09:03               Wednesday   \n",
       "...                    ...                  ...                     ...   \n",
       "14995               Monday             23:37:05                  Monday   \n",
       "14996               Monday             23:47:38                 Tuesday   \n",
       "14997               Monday             23:50:16                 Tuesday   \n",
       "14998               Monday             23:52:44                 Tuesday   \n",
       "14999               Monday             23:58:20                 Tuesday   \n",
       "\n",
       "      time_order_delivered_at  week_order_placed_at  \n",
       "0             00:18:07.443132                     1  \n",
       "1             00:19:34.925241                     1  \n",
       "2             00:22:28.291385                     1  \n",
       "3             00:46:19.019399                     1  \n",
       "4             00:25:13.619056                     1  \n",
       "...                       ...                   ...  \n",
       "14995         23:52:37.409378                     2  \n",
       "14996         00:04:22.672912                     2  \n",
       "14997         00:05:40.676238                     2  \n",
       "14998         00:08:41.810358                     2  \n",
       "14999         00:13:42.499311                     2  \n",
       "\n",
       "[15000 rows x 8 columns]"
      ]
     },
     "execution_count": 32,
     "metadata": {},
     "output_type": "execute_result"
    }
   ],
   "source": [
    "df"
   ]
  },
  {
   "cell_type": "code",
   "execution_count": 33,
   "id": "3cb6cfed-e964-496e-b59d-94a40457a02a",
   "metadata": {},
   "outputs": [
    {
     "data": {
      "text/plain": [
       "order_id                            int64\n",
       "order_placed_at            datetime64[ns]\n",
       "order_delivered_at         datetime64[ns]\n",
       "days_at_order_placed               object\n",
       "time_order_placed_at               object\n",
       "days_at_order_delivered            object\n",
       "time_order_delivered_at            object\n",
       "week_order_placed_at                int64\n",
       "dtype: object"
      ]
     },
     "execution_count": 33,
     "metadata": {},
     "output_type": "execute_result"
    }
   ],
   "source": [
    "df.dtypes"
   ]
  },
  {
   "cell_type": "code",
   "execution_count": 36,
   "id": "51e55665-559e-4171-acb7-c6646486aec6",
   "metadata": {},
   "outputs": [],
   "source": [
    "df['time_take']=df['order_delivered_at'] - df['order_placed_at']"
   ]
  },
  {
   "cell_type": "code",
   "execution_count": 44,
   "id": "b0128fb5-e8bb-4452-8c57-448d4f287335",
   "metadata": {},
   "outputs": [],
   "source": [
    "df_filtered = df[df['time_take'] > datetime.timedelta(minutes=30)]"
   ]
  },
  {
   "cell_type": "code",
   "execution_count": 46,
   "id": "f19c16c6-0294-40ba-8532-ad6d9241cb96",
   "metadata": {},
   "outputs": [
    {
     "data": {
      "text/plain": [
       "604"
      ]
     },
     "execution_count": 46,
     "metadata": {},
     "output_type": "execute_result"
    }
   ],
   "source": [
    "len(df_filtered)"
   ]
  },
  {
   "cell_type": "code",
   "execution_count": 50,
   "id": "7c9138f4-4f11-43db-9b42-075eea334f88",
   "metadata": {},
   "outputs": [
    {
     "data": {
      "text/plain": [
       "<AxesSubplot:xlabel='days_at_order_placed', ylabel='count'>"
      ]
     },
     "execution_count": 50,
     "metadata": {},
     "output_type": "execute_result"
    },
    {
     "data": {
      "image/png": "[encoded data removed]",
      "text/plain": [
       "<Figure size 640x480 with 1 Axes>"
      ]
     },
     "metadata": {},
     "output_type": "display_data"
    }
   ],
   "source": [
    "sns.countplot(x=df['days_at_order_placed'])"
   ]
  },
  {
   "cell_type": "markdown",
   "id": "939458bc-c70d-4412-a63f-111aad3e833d",
   "metadata": {},
   "source": [
    "### Thursday and Wednesday has the maximum number of orders"
   ]
  },
  {
   "cell_type": "code",
   "execution_count": 51,
   "id": "b8402246-45e5-464b-96b7-d947f078a64a",
   "metadata": {},
   "outputs": [
    {
     "data": {
      "text/plain": [
       "Thursday     2280\n",
       "Wednesday    2259\n",
       "Monday       2256\n",
       "Friday       2223\n",
       "Saturday     2209\n",
       "Sunday       2191\n",
       "Tuesday      1582\n",
       "Name: days_at_order_placed, dtype: int64"
      ]
     },
     "execution_count": 51,
     "metadata": {},
     "output_type": "execute_result"
    }
   ],
   "source": [
    "df['days_at_order_placed'].value_counts()"
   ]
  },
  {
   "cell_type": "code",
   "execution_count": 65,
   "id": "a1c2a93f-c7a3-458e-a433-0b6da858a176",
   "metadata": {},
   "outputs": [
    {
     "data": {
      "text/plain": [
       "2    3999\n",
       "4    3935\n",
       "3    3725\n",
       "1    2790\n",
       "5     551\n",
       "Name: week_order_placed_at, dtype: int64"
      ]
     },
     "execution_count": 65,
     "metadata": {},
     "output_type": "execute_result"
    }
   ],
   "source": [
    "df['week_order_placed_at'].value_counts()"
   ]
  },
  {
   "cell_type": "code",
   "execution_count": 66,
   "id": "83f8d7dd-8b38-45c6-8c29-5669db8a8798",
   "metadata": {},
   "outputs": [
    {
     "data": {
      "text/plain": [
       "<AxesSubplot:xlabel='week_order_placed_at', ylabel='count'>"
      ]
     },
     "execution_count": 66,
     "metadata": {},
     "output_type": "execute_result"
    },
    {
     "data": {
      "image/png": "[encoded data removed]",
      "text/plain": [
       "<Figure size 640x480 with 1 Axes>"
      ]
     },
     "metadata": {},
     "output_type": "display_data"
    }
   ],
   "source": [
    "sns.countplot(x=df['week_order_placed_at'])"
   ]
  },
  {
   "cell_type": "markdown",
   "id": "eb16f26e-3a2f-4005-8c67-1442329b2924",
   "metadata": {},
   "source": [
    "### 2nd and 4th week of month has the maximum number of orders"
   ]
  },
  {
   "cell_type": "code",
   "execution_count": 68,
   "id": "41647059-759e-4d83-b206-9257ea9fae83",
   "metadata": {},
   "outputs": [
    {
     "data": {
      "text/plain": [
       "Timedelta('0 days 00:15:00.000620')"
      ]
     },
     "execution_count": 68,
     "metadata": {},
     "output_type": "execute_result"
    }
   ],
   "source": [
    "df['time_take'].min()"
   ]
  },
  {
   "cell_type": "code",
   "execution_count": 69,
   "id": "95a7713e-dce8-4391-b740-dcf76644746a",
   "metadata": {},
   "outputs": [
    {
     "data": {
      "text/plain": [
       "Timedelta('5 days 01:39:49.882496')"
      ]
     },
     "execution_count": 69,
     "metadata": {},
     "output_type": "execute_result"
    }
   ],
   "source": [
    "df['time_take'].max()"
   ]
  },
  {
   "cell_type": "code",
   "execution_count": 73,
   "id": "bc2816e8-9660-47f8-b001-a7c51d859811",
   "metadata": {},
   "outputs": [
    {
     "data": {
      "text/plain": [
       "Timedelta('0 days 00:20:29.963359588')"
      ]
     },
     "execution_count": 73,
     "metadata": {},
     "output_type": "execute_result"
    }
   ],
   "source": [
    "df['time_take'].mean()"
   ]
  },
  {
   "cell_type": "code",
   "execution_count": 74,
   "id": "b22545e0-c2e3-405d-a227-ae92fc9f6048",
   "metadata": {},
   "outputs": [
    {
     "data": {
      "text/plain": [
       "Timedelta('0 days 00:15:47.879164')"
      ]
     },
     "execution_count": 74,
     "metadata": {},
     "output_type": "execute_result"
    }
   ],
   "source": [
    "df['time_take'].median()"
   ]
  },
  {
   "cell_type": "code",
   "execution_count": 77,
   "id": "63984734-d0fe-4b97-ae19-c9169eed0fd1",
   "metadata": {},
   "outputs": [],
   "source": [
    "df['date']=df['order_placed_at'].dt.date"
   ]
  },
  {
   "cell_type": "code",
   "execution_count": 86,
   "id": "033a5793-f442-40be-9d26-e5dda26ec719",
   "metadata": {},
   "outputs": [
    {
     "data": {
      "text/plain": [
       "2023-03-20    597\n",
       "2023-03-22    591\n",
       "2023-03-02    588\n",
       "2023-03-10    587\n",
       "2023-03-23    583\n",
       "2023-03-06    582\n",
       "2023-03-12    582\n",
       "2023-03-08    578\n",
       "2023-03-07    570\n",
       "2023-03-04    567\n",
       "2023-03-24    565\n",
       "2023-03-09    564\n",
       "2023-03-18    559\n",
       "2023-03-27    551\n",
       "2023-03-05    551\n",
       "2023-03-01    550\n",
       "2023-03-25    547\n",
       "2023-03-16    545\n",
       "2023-03-15    540\n",
       "2023-03-17    537\n",
       "2023-03-11    536\n",
       "2023-03-03    534\n",
       "2023-03-26    532\n",
       "2023-03-19    526\n",
       "2023-03-13    526\n",
       "2023-03-21    520\n",
       "2023-03-14    492\n",
       "Name: date, dtype: int64"
      ]
     },
     "execution_count": 86,
     "metadata": {},
     "output_type": "execute_result"
    }
   ],
   "source": [
    "df['date'].value_counts()"
   ]
  },
  {
   "cell_type": "code",
   "execution_count": 87,
   "id": "61d6c6f0-58e1-4559-9750-67e105af082f",
   "metadata": {},
   "outputs": [
    {
     "data": {
      "text/plain": [
       "<AxesSubplot:xlabel='count', ylabel='date'>"
      ]
     },
     "execution_count": 87,
     "metadata": {},
     "output_type": "execute_result"
    },
    {
     "data": {
      "image/png": "[encoded data removed]",
      "text/plain": [
       "<Figure size 640x480 with 1 Axes>"
      ]
     },
     "metadata": {},
     "output_type": "display_data"
    }
   ],
   "source": [
    "sns.countplot(y=df['date'].value_counts()[:5] )"
   ]
  },
  {
   "cell_type": "code",
   "execution_count": null,
   "id": "fbf01c0c-5a37-4bed-bc1d-511d0badfaf8",
   "metadata": {},
   "outputs": [],
   "source": []
  },
  {
   "cell_type": "code",
   "execution_count": 100,
   "id": "c9c80018-81ff-4317-901d-8e17c17bfb07",
   "metadata": {},
   "outputs": [],
   "source": [
    "a=df.groupby('week_order_placed_at')['time_take'].count()"
   ]
  },
  {
   "cell_type": "code",
   "execution_count": 101,
   "id": "baafd48b-be56-4e5f-b036-b94072d4d90b",
   "metadata": {},
   "outputs": [
    {
     "data": {
      "text/plain": [
       "week_order_placed_at\n",
       "1    2790\n",
       "2    3999\n",
       "3    3725\n",
       "4    3935\n",
       "5     551\n",
       "Name: time_take, dtype: int64"
      ]
     },
     "execution_count": 101,
     "metadata": {},
     "output_type": "execute_result"
    }
   ],
   "source": [
    "a"
   ]
  },
  {
   "cell_type": "code",
   "execution_count": 105,
   "id": "ae69b55d-3777-4cd8-9f56-074eed700b32",
   "metadata": {},
   "outputs": [
    {
     "data": {
      "text/plain": [
       "<AxesSubplot:ylabel='time_take'>"
      ]
     },
     "execution_count": 105,
     "metadata": {},
     "output_type": "execute_result"
    },
    {
     "data": {
      "image/png": "[encoded data removed]",
      "text/plain": [
       "<Figure size 640x480 with 1 Axes>"
      ]
     },
     "metadata": {},
     "output_type": "display_data"
    }
   ],
   "source": [
    "sns.barplot(x=[1,2,3,4,5],y=a)"
   ]
  },
  {
   "cell_type": "code",
   "execution_count": null,
   "id": "7cc95f01-dbf6-469c-99b3-7a12a2765ba6",
   "metadata": {},
   "outputs": [],
   "source": []
  },
  {
   "cell_type": "code",
   "execution_count": 140,
   "id": "62c96303-6347-472c-983a-357e658b409d",
   "metadata": {},
   "outputs": [],
   "source": [
    "b=df.groupby('date')['time_take'].count().reset_index()"
   ]
  },
  {
   "cell_type": "code",
   "execution_count": 141,
   "id": "a7d14b3a-2efe-4620-bf0e-f49414ca9092",
   "metadata": {},
   "outputs": [
    {
     "data": {
      "text/html": [
       "<div>\n",
       "<style scoped>\n",
       "    .dataframe tbody tr th:only-of-type {\n",
       "        vertical-align: middle;\n",
       "    }\n",
       "\n",
       "    .dataframe tbody tr th {\n",
       "        vertical-align: top;\n",
       "    }\n",
       "\n",
       "    .dataframe thead th {\n",
       "        text-align: right;\n",
       "    }\n",
       "</style>\n",
       "<table border=\"1\" class=\"dataframe\">\n",
       "  <thead>\n",
       "    <tr style=\"text-align: right;\">\n",
       "      <th></th>\n",
       "      <th>date</th>\n",
       "      <th>time_take</th>\n",
       "    </tr>\n",
       "  </thead>\n",
       "  <tbody>\n",
       "    <tr>\n",
       "      <th>0</th>\n",
       "      <td>2023-03-01</td>\n",
       "      <td>550</td>\n",
       "    </tr>\n",
       "    <tr>\n",
       "      <th>1</th>\n",
       "      <td>2023-03-02</td>\n",
       "      <td>588</td>\n",
       "    </tr>\n",
       "    <tr>\n",
       "      <th>2</th>\n",
       "      <td>2023-03-03</td>\n",
       "      <td>534</td>\n",
       "    </tr>\n",
       "    <tr>\n",
       "      <th>3</th>\n",
       "      <td>2023-03-04</td>\n",
       "      <td>567</td>\n",
       "    </tr>\n",
       "    <tr>\n",
       "      <th>4</th>\n",
       "      <td>2023-03-05</td>\n",
       "      <td>551</td>\n",
       "    </tr>\n",
       "    <tr>\n",
       "      <th>5</th>\n",
       "      <td>2023-03-06</td>\n",
       "      <td>582</td>\n",
       "    </tr>\n",
       "    <tr>\n",
       "      <th>6</th>\n",
       "      <td>2023-03-07</td>\n",
       "      <td>570</td>\n",
       "    </tr>\n",
       "    <tr>\n",
       "      <th>7</th>\n",
       "      <td>2023-03-08</td>\n",
       "      <td>578</td>\n",
       "    </tr>\n",
       "    <tr>\n",
       "      <th>8</th>\n",
       "      <td>2023-03-09</td>\n",
       "      <td>564</td>\n",
       "    </tr>\n",
       "    <tr>\n",
       "      <th>9</th>\n",
       "      <td>2023-03-10</td>\n",
       "      <td>587</td>\n",
       "    </tr>\n",
       "    <tr>\n",
       "      <th>10</th>\n",
       "      <td>2023-03-11</td>\n",
       "      <td>536</td>\n",
       "    </tr>\n",
       "    <tr>\n",
       "      <th>11</th>\n",
       "      <td>2023-03-12</td>\n",
       "      <td>582</td>\n",
       "    </tr>\n",
       "    <tr>\n",
       "      <th>12</th>\n",
       "      <td>2023-03-13</td>\n",
       "      <td>526</td>\n",
       "    </tr>\n",
       "    <tr>\n",
       "      <th>13</th>\n",
       "      <td>2023-03-14</td>\n",
       "      <td>492</td>\n",
       "    </tr>\n",
       "    <tr>\n",
       "      <th>14</th>\n",
       "      <td>2023-03-15</td>\n",
       "      <td>540</td>\n",
       "    </tr>\n",
       "    <tr>\n",
       "      <th>15</th>\n",
       "      <td>2023-03-16</td>\n",
       "      <td>545</td>\n",
       "    </tr>\n",
       "    <tr>\n",
       "      <th>16</th>\n",
       "      <td>2023-03-17</td>\n",
       "      <td>537</td>\n",
       "    </tr>\n",
       "    <tr>\n",
       "      <th>17</th>\n",
       "      <td>2023-03-18</td>\n",
       "      <td>559</td>\n",
       "    </tr>\n",
       "    <tr>\n",
       "      <th>18</th>\n",
       "      <td>2023-03-19</td>\n",
       "      <td>526</td>\n",
       "    </tr>\n",
       "    <tr>\n",
       "      <th>19</th>\n",
       "      <td>2023-03-20</td>\n",
       "      <td>597</td>\n",
       "    </tr>\n",
       "    <tr>\n",
       "      <th>20</th>\n",
       "      <td>2023-03-21</td>\n",
       "      <td>520</td>\n",
       "    </tr>\n",
       "    <tr>\n",
       "      <th>21</th>\n",
       "      <td>2023-03-22</td>\n",
       "      <td>591</td>\n",
       "    </tr>\n",
       "    <tr>\n",
       "      <th>22</th>\n",
       "      <td>2023-03-23</td>\n",
       "      <td>583</td>\n",
       "    </tr>\n",
       "    <tr>\n",
       "      <th>23</th>\n",
       "      <td>2023-03-24</td>\n",
       "      <td>565</td>\n",
       "    </tr>\n",
       "    <tr>\n",
       "      <th>24</th>\n",
       "      <td>2023-03-25</td>\n",
       "      <td>547</td>\n",
       "    </tr>\n",
       "    <tr>\n",
       "      <th>25</th>\n",
       "      <td>2023-03-26</td>\n",
       "      <td>532</td>\n",
       "    </tr>\n",
       "    <tr>\n",
       "      <th>26</th>\n",
       "      <td>2023-03-27</td>\n",
       "      <td>551</td>\n",
       "    </tr>\n",
       "  </tbody>\n",
       "</table>\n",
       "</div>"
      ],
      "text/plain": [
       "          date  time_take\n",
       "0   2023-03-01        550\n",
       "1   2023-03-02        588\n",
       "2   2023-03-03        534\n",
       "3   2023-03-04        567\n",
       "4   2023-03-05        551\n",
       "5   2023-03-06        582\n",
       "6   2023-03-07        570\n",
       "7   2023-03-08        578\n",
       "8   2023-03-09        564\n",
       "9   2023-03-10        587\n",
       "10  2023-03-11        536\n",
       "11  2023-03-12        582\n",
       "12  2023-03-13        526\n",
       "13  2023-03-14        492\n",
       "14  2023-03-15        540\n",
       "15  2023-03-16        545\n",
       "16  2023-03-17        537\n",
       "17  2023-03-18        559\n",
       "18  2023-03-19        526\n",
       "19  2023-03-20        597\n",
       "20  2023-03-21        520\n",
       "21  2023-03-22        591\n",
       "22  2023-03-23        583\n",
       "23  2023-03-24        565\n",
       "24  2023-03-25        547\n",
       "25  2023-03-26        532\n",
       "26  2023-03-27        551"
      ]
     },
     "execution_count": 141,
     "metadata": {},
     "output_type": "execute_result"
    }
   ],
   "source": [
    "b"
   ]
  },
  {
   "cell_type": "code",
   "execution_count": 144,
   "id": "298755e7-d87b-4823-bd3a-3c6912fbc759",
   "metadata": {},
   "outputs": [
    {
     "data": {
      "text/plain": [
       "<Figure size 1000x1000 with 0 Axes>"
      ]
     },
     "execution_count": 144,
     "metadata": {},
     "output_type": "execute_result"
    },
    {
     "data": {
      "image/png": "[encoded data removed]",
      "text/plain": [
       "<Figure size 640x480 with 1 Axes>"
      ]
     },
     "metadata": {},
     "output_type": "display_data"
    },
    {
     "data": {
      "text/plain": [
       "<Figure size 1000x1000 with 0 Axes>"
      ]
     },
     "metadata": {},
     "output_type": "display_data"
    }
   ],
   "source": [
    "sns.barplot(y=b['time_take'],x=[1,2,3,4,5,6,7,8,9,10,11,12,13,14,15,16,17,18,19,20,21,22,23,24,25,26,27])\n",
    "plt.figure(figsize=(10,10))"
   ]
  },
  {
   "cell_type": "markdown",
   "id": "24c59bdd-2a7c-42fb-a6b0-5daa92bd4a9c",
   "metadata": {},
   "source": [
    "### 20th March has the  maximum number of orders and 14th March has minimum number of oreders delivererd"
   ]
  },
  {
   "cell_type": "code",
   "execution_count": 147,
   "id": "32a9aaee-3eca-471e-a6ad-2eff620f9a23",
   "metadata": {},
   "outputs": [],
   "source": [
    "percentile_95 = df['time_take'].quantile(0.95)"
   ]
  },
  {
   "cell_type": "code",
   "execution_count": 148,
   "id": "4a1a02d4-bfd4-49cb-8fb7-fa08c0b852ec",
   "metadata": {},
   "outputs": [
    {
     "data": {
      "text/plain": [
       "Timedelta('0 days 00:27:15.662639799')"
      ]
     },
     "execution_count": 148,
     "metadata": {},
     "output_type": "execute_result"
    }
   ],
   "source": [
    "percentile_95"
   ]
  },
  {
   "cell_type": "markdown",
   "id": "512095fd-a38d-4ca8-86aa-9bd55b19e57f",
   "metadata": {},
   "source": [
    "### 95th percentile the time required for delivering is 27 minutes"
   ]
  },
  {
   "cell_type": "code",
   "execution_count": null,
   "id": "663c569a-3296-4d89-b931-fb8569dd1766",
   "metadata": {},
   "outputs": [],
   "source": []
  }
 ],
 "metadata": {
  "kernelspec": {
   "display_name": "Python 3 (ipykernel)",
   "language": "python",
   "name": "python3"
  },
  "language_info": {
   "codemirror_mode": {
    "name": "ipython",
    "version": 3
   },
   "file_extension": ".py",
   "mimetype": "text/x-python",
   "name": "python",
   "nbconvert_exporter": "python",
   "pygments_lexer": "ipython3",
   "version": "3.9.7"
  }
 },
 "nbformat": 4,
 "nbformat_minor": 5
}
