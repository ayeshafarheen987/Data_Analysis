{
 "cells": [
  {
   "cell_type": "code",
   "execution_count": 40,
   "id": "b8f2a99b-9c2b-4302-b19b-27aa4eb1f7c3",
   "metadata": {},
   "outputs": [],
   "source": [
    "import pandas as pd\n",
    "import numpy as np\n",
    "import seaborn as sns\n",
    "import matplotlib.pyplot as plt"
   ]
  },
  {
   "cell_type": "code",
   "execution_count": 41,
   "id": "c43b18cd-4ea8-4451-a9aa-f89028e48ff6",
   "metadata": {},
   "outputs": [],
   "source": [
    "df = pd.read_csv(\"C:/Users/LENOVO X1 YOGA/Downloads/scores_data.csv\")"
   ]
  },
  {
   "cell_type": "code",
   "execution_count": 42,
   "id": "59cfd57e-92e5-46b0-9d28-ac38706fdaca",
   "metadata": {},
   "outputs": [
    {
     "data": {
      "text/html": [
       "<div>\n",
       "<style scoped>\n",
       "    .dataframe tbody tr th:only-of-type {\n",
       "        vertical-align: middle;\n",
       "    }\n",
       "\n",
       "    .dataframe tbody tr th {\n",
       "        vertical-align: top;\n",
       "    }\n",
       "\n",
       "    .dataframe thead th {\n",
       "        text-align: right;\n",
       "    }\n",
       "</style>\n",
       "<table border=\"1\" class=\"dataframe\">\n",
       "  <thead>\n",
       "    <tr style=\"text-align: right;\">\n",
       "      <th></th>\n",
       "      <th>Batch</th>\n",
       "      <th>User_ID</th>\n",
       "      <th>Score</th>\n",
       "    </tr>\n",
       "  </thead>\n",
       "  <tbody>\n",
       "    <tr>\n",
       "      <th>0</th>\n",
       "      <td>AI_ELITE_7</td>\n",
       "      <td>uid_149</td>\n",
       "      <td>6 / 7</td>\n",
       "    </tr>\n",
       "    <tr>\n",
       "      <th>1</th>\n",
       "      <td>AI_ELITE_7</td>\n",
       "      <td>uid_148</td>\n",
       "      <td>6 / 7</td>\n",
       "    </tr>\n",
       "    <tr>\n",
       "      <th>2</th>\n",
       "      <td>AI_ELITE_7</td>\n",
       "      <td>uid_147</td>\n",
       "      <td>7 / 7</td>\n",
       "    </tr>\n",
       "    <tr>\n",
       "      <th>3</th>\n",
       "      <td>AI_ELITE_7</td>\n",
       "      <td>uid_146</td>\n",
       "      <td>7 / 7</td>\n",
       "    </tr>\n",
       "    <tr>\n",
       "      <th>4</th>\n",
       "      <td>AI_ELITE_7</td>\n",
       "      <td>uid_145</td>\n",
       "      <td>4 / 7</td>\n",
       "    </tr>\n",
       "    <tr>\n",
       "      <th>...</th>\n",
       "      <td>...</td>\n",
       "      <td>...</td>\n",
       "      <td>...</td>\n",
       "    </tr>\n",
       "    <tr>\n",
       "      <th>144</th>\n",
       "      <td>AI_ELITE_4</td>\n",
       "      <td>uid_5</td>\n",
       "      <td>4 / 7</td>\n",
       "    </tr>\n",
       "    <tr>\n",
       "      <th>145</th>\n",
       "      <td>AI_ELITE_4</td>\n",
       "      <td>uid_4</td>\n",
       "      <td>4 / 7</td>\n",
       "    </tr>\n",
       "    <tr>\n",
       "      <th>146</th>\n",
       "      <td>AI_ELITE_4</td>\n",
       "      <td>uid_3</td>\n",
       "      <td>4 / 7</td>\n",
       "    </tr>\n",
       "    <tr>\n",
       "      <th>147</th>\n",
       "      <td>AI_ELITE_4</td>\n",
       "      <td>uid_2</td>\n",
       "      <td>3 / 7</td>\n",
       "    </tr>\n",
       "    <tr>\n",
       "      <th>148</th>\n",
       "      <td>AI_ELITE_4</td>\n",
       "      <td>uid_1</td>\n",
       "      <td>2 / 7</td>\n",
       "    </tr>\n",
       "  </tbody>\n",
       "</table>\n",
       "<p>149 rows × 3 columns</p>\n",
       "</div>"
      ],
      "text/plain": [
       "         Batch  User_ID     Score   \n",
       "0    AI_ELITE_7  uid_149       6 / 7\n",
       "1    AI_ELITE_7  uid_148       6 / 7\n",
       "2    AI_ELITE_7  uid_147       7 / 7\n",
       "3    AI_ELITE_7  uid_146       7 / 7\n",
       "4    AI_ELITE_7  uid_145       4 / 7\n",
       "..          ...      ...         ...\n",
       "144  AI_ELITE_4    uid_5       4 / 7\n",
       "145  AI_ELITE_4    uid_4       4 / 7\n",
       "146  AI_ELITE_4    uid_3       4 / 7\n",
       "147  AI_ELITE_4    uid_2       3 / 7\n",
       "148  AI_ELITE_4    uid_1       2 / 7\n",
       "\n",
       "[149 rows x 3 columns]"
      ]
     },
     "execution_count": 42,
     "metadata": {},
     "output_type": "execute_result"
    }
   ],
   "source": [
    "df"
   ]
  },
  {
   "cell_type": "code",
   "execution_count": 43,
   "id": "09a85517-332a-4a99-82c3-11cb61af7a95",
   "metadata": {},
   "outputs": [
    {
     "data": {
      "text/plain": [
       "(149, 3)"
      ]
     },
     "execution_count": 43,
     "metadata": {},
     "output_type": "execute_result"
    }
   ],
   "source": [
    "df.shape"
   ]
  },
  {
   "cell_type": "code",
   "execution_count": 44,
   "id": "4ce599a4-51f8-44c1-97ed-cca13b5c614f",
   "metadata": {},
   "outputs": [
    {
     "data": {
      "text/html": [
       "<div>\n",
       "<style scoped>\n",
       "    .dataframe tbody tr th:only-of-type {\n",
       "        vertical-align: middle;\n",
       "    }\n",
       "\n",
       "    .dataframe tbody tr th {\n",
       "        vertical-align: top;\n",
       "    }\n",
       "\n",
       "    .dataframe thead th {\n",
       "        text-align: right;\n",
       "    }\n",
       "</style>\n",
       "<table border=\"1\" class=\"dataframe\">\n",
       "  <thead>\n",
       "    <tr style=\"text-align: right;\">\n",
       "      <th></th>\n",
       "      <th>Batch</th>\n",
       "      <th>User_ID</th>\n",
       "      <th>Score</th>\n",
       "    </tr>\n",
       "  </thead>\n",
       "  <tbody>\n",
       "    <tr>\n",
       "      <th>0</th>\n",
       "      <td>AI_ELITE_7</td>\n",
       "      <td>uid_149</td>\n",
       "      <td>6 / 7</td>\n",
       "    </tr>\n",
       "    <tr>\n",
       "      <th>1</th>\n",
       "      <td>AI_ELITE_7</td>\n",
       "      <td>uid_148</td>\n",
       "      <td>6 / 7</td>\n",
       "    </tr>\n",
       "    <tr>\n",
       "      <th>2</th>\n",
       "      <td>AI_ELITE_7</td>\n",
       "      <td>uid_147</td>\n",
       "      <td>7 / 7</td>\n",
       "    </tr>\n",
       "    <tr>\n",
       "      <th>3</th>\n",
       "      <td>AI_ELITE_7</td>\n",
       "      <td>uid_146</td>\n",
       "      <td>7 / 7</td>\n",
       "    </tr>\n",
       "    <tr>\n",
       "      <th>4</th>\n",
       "      <td>AI_ELITE_7</td>\n",
       "      <td>uid_145</td>\n",
       "      <td>4 / 7</td>\n",
       "    </tr>\n",
       "  </tbody>\n",
       "</table>\n",
       "</div>"
      ],
      "text/plain": [
       "       Batch  User_ID     Score   \n",
       "0  AI_ELITE_7  uid_149       6 / 7\n",
       "1  AI_ELITE_7  uid_148       6 / 7\n",
       "2  AI_ELITE_7  uid_147       7 / 7\n",
       "3  AI_ELITE_7  uid_146       7 / 7\n",
       "4  AI_ELITE_7  uid_145       4 / 7"
      ]
     },
     "execution_count": 44,
     "metadata": {},
     "output_type": "execute_result"
    }
   ],
   "source": [
    "df.head()"
   ]
  },
  {
   "cell_type": "code",
   "execution_count": 45,
   "id": "ec412c82-1e24-44b1-8d2f-e72d69031b67",
   "metadata": {},
   "outputs": [
    {
     "name": "stdout",
     "output_type": "stream",
     "text": [
      "<class 'pandas.core.frame.DataFrame'>\n",
      "RangeIndex: 149 entries, 0 to 148\n",
      "Data columns (total 3 columns):\n",
      " #   Column       Non-Null Count  Dtype \n",
      "---  ------       --------------  ----- \n",
      " 0   Batch        149 non-null    object\n",
      " 1   User_ID      149 non-null    object\n",
      " 2      Score     149 non-null    object\n",
      "dtypes: object(3)\n",
      "memory usage: 3.6+ KB\n"
     ]
    }
   ],
   "source": [
    "df.info()"
   ]
  },
  {
   "cell_type": "code",
   "execution_count": 46,
   "id": "cdad7100-989f-4d3c-8530-a614a3bb8bb9",
   "metadata": {},
   "outputs": [
    {
     "data": {
      "text/plain": [
       "Batch          0\n",
       "User_ID        0\n",
       "   Score       0\n",
       "dtype: int64"
      ]
     },
     "execution_count": 46,
     "metadata": {},
     "output_type": "execute_result"
    }
   ],
   "source": [
    "df.isnull().sum()"
   ]
  },
  {
   "cell_type": "code",
   "execution_count": 47,
   "id": "8f50f1b2-4325-48e2-bd0b-7cfaf8449521",
   "metadata": {},
   "outputs": [
    {
     "data": {
      "text/html": [
       "<div>\n",
       "<style scoped>\n",
       "    .dataframe tbody tr th:only-of-type {\n",
       "        vertical-align: middle;\n",
       "    }\n",
       "\n",
       "    .dataframe tbody tr th {\n",
       "        vertical-align: top;\n",
       "    }\n",
       "\n",
       "    .dataframe thead th {\n",
       "        text-align: right;\n",
       "    }\n",
       "</style>\n",
       "<table border=\"1\" class=\"dataframe\">\n",
       "  <thead>\n",
       "    <tr style=\"text-align: right;\">\n",
       "      <th></th>\n",
       "      <th>Batch</th>\n",
       "      <th>User_ID</th>\n",
       "      <th>Score</th>\n",
       "    </tr>\n",
       "  </thead>\n",
       "  <tbody>\n",
       "    <tr>\n",
       "      <th>count</th>\n",
       "      <td>149</td>\n",
       "      <td>149</td>\n",
       "      <td>149</td>\n",
       "    </tr>\n",
       "    <tr>\n",
       "      <th>unique</th>\n",
       "      <td>3</td>\n",
       "      <td>149</td>\n",
       "      <td>8</td>\n",
       "    </tr>\n",
       "    <tr>\n",
       "      <th>top</th>\n",
       "      <td>AI_ELITE_7</td>\n",
       "      <td>uid_149</td>\n",
       "      <td>4 / 7</td>\n",
       "    </tr>\n",
       "    <tr>\n",
       "      <th>freq</th>\n",
       "      <td>53</td>\n",
       "      <td>1</td>\n",
       "      <td>40</td>\n",
       "    </tr>\n",
       "  </tbody>\n",
       "</table>\n",
       "</div>"
      ],
      "text/plain": [
       "            Batch  User_ID     Score   \n",
       "count          149      149         149\n",
       "unique           3      149           8\n",
       "top     AI_ELITE_7  uid_149       4 / 7\n",
       "freq            53        1          40"
      ]
     },
     "execution_count": 47,
     "metadata": {},
     "output_type": "execute_result"
    }
   ],
   "source": [
    "df.describe()"
   ]
  },
  {
   "cell_type": "markdown",
   "id": "0ae6111b-e5ea-4b45-85d7-9c417f49ea9d",
   "metadata": {},
   "source": [
    "### Univariate Analysis"
   ]
  },
  {
   "cell_type": "code",
   "execution_count": 48,
   "id": "90f53a5d-9d3a-4c72-aeba-7e717b94c33d",
   "metadata": {},
   "outputs": [
    {
     "data": {
      "text/plain": [
       "Batch       User_ID      Score   \n",
       "AI_ELITE_4  uid_1     2 / 7          1\n",
       "AI_ELITE_6  uid_95    4 / 7          1\n",
       "AI_ELITE_7  uid_100   3 / 7          1\n",
       "            uid_101   6 / 7          1\n",
       "            uid_102   4 / 7          1\n",
       "                                    ..\n",
       "AI_ELITE_6  uid_51    7 / 7          1\n",
       "            uid_52    1 / 7          1\n",
       "            uid_53    3 / 7          1\n",
       "            uid_54    2 / 7          1\n",
       "AI_ELITE_7  uid_99    2 / 7          1\n",
       "Length: 149, dtype: int64"
      ]
     },
     "execution_count": 48,
     "metadata": {},
     "output_type": "execute_result"
    }
   ],
   "source": [
    "df.value_counts()"
   ]
  },
  {
   "cell_type": "code",
   "execution_count": 49,
   "id": "6176d9ce-db5a-4074-8feb-aafea3f2842f",
   "metadata": {},
   "outputs": [
    {
     "data": {
      "text/plain": [
       "Index(['Batch ', 'User_ID ', '   Score   '], dtype='object')"
      ]
     },
     "execution_count": 49,
     "metadata": {},
     "output_type": "execute_result"
    }
   ],
   "source": [
    "df.columns"
   ]
  },
  {
   "cell_type": "code",
   "execution_count": 50,
   "id": "b58b9e4a-5c0f-47f5-8539-e1c87cdc100f",
   "metadata": {},
   "outputs": [
    {
     "data": {
      "text/plain": [
       "AI_ELITE_7    53\n",
       "AI_ELITE_6    48\n",
       "AI_ELITE_4    48\n",
       "Name: Batch , dtype: int64"
      ]
     },
     "execution_count": 50,
     "metadata": {},
     "output_type": "execute_result"
    }
   ],
   "source": [
    "df['Batch '].value_counts()"
   ]
  },
  {
   "cell_type": "code",
   "execution_count": 51,
   "id": "3e81a261-eabd-4bf1-a5c3-d9d1ad97cd07",
   "metadata": {},
   "outputs": [
    {
     "data": {
      "text/plain": [
       "array(['AI_ELITE_7', 'AI_ELITE_6', 'AI_ELITE_4'], dtype=object)"
      ]
     },
     "execution_count": 51,
     "metadata": {},
     "output_type": "execute_result"
    }
   ],
   "source": [
    "df['Batch '].unique()"
   ]
  },
  {
   "cell_type": "code",
   "execution_count": 52,
   "id": "74454e3a-3abb-4b5d-9b76-98b4b55e9a3c",
   "metadata": {},
   "outputs": [],
   "source": [
    "df.columns=df.columns.str.replace(' ','')"
   ]
  },
  {
   "cell_type": "code",
   "execution_count": 53,
   "id": "38d5a13b-bf9b-45f3-a707-34622ee74633",
   "metadata": {},
   "outputs": [
    {
     "data": {
      "text/plain": [
       "AI_ELITE_7    53\n",
       "AI_ELITE_6    48\n",
       "AI_ELITE_4    48\n",
       "Name: Batch, dtype: int64"
      ]
     },
     "execution_count": 53,
     "metadata": {},
     "output_type": "execute_result"
    }
   ],
   "source": [
    "df['Batch'].value_counts()"
   ]
  },
  {
   "cell_type": "code",
   "execution_count": 54,
   "id": "822c4979-7c96-4fdf-b58f-c093b65593af",
   "metadata": {},
   "outputs": [
    {
     "data": {
      "text/plain": [
       "149"
      ]
     },
     "execution_count": 54,
     "metadata": {},
     "output_type": "execute_result"
    }
   ],
   "source": [
    "df['User_ID'].nunique()"
   ]
  },
  {
   "cell_type": "code",
   "execution_count": 55,
   "id": "a7707825-7f09-4a6b-a9f7-9de9f095a3e2",
   "metadata": {},
   "outputs": [
    {
     "data": {
      "text/plain": [
       "4 / 7    40\n",
       "5 / 7    32\n",
       "3 / 7    24\n",
       "6 / 7    18\n",
       "7 / 7    18\n",
       "2 / 7    12\n",
       "1 / 7     3\n",
       "0 / 7     2\n",
       "Name: Score, dtype: int64"
      ]
     },
     "execution_count": 55,
     "metadata": {},
     "output_type": "execute_result"
    }
   ],
   "source": [
    "df['Score'].value_counts()"
   ]
  },
  {
   "cell_type": "code",
   "execution_count": 63,
   "id": "1479b604-4488-4545-aec9-ff248858ab75",
   "metadata": {},
   "outputs": [
    {
     "data": {
      "text/plain": [
       "<AxesSubplot:xlabel='Score', ylabel='count'>"
      ]
     },
     "execution_count": 63,
     "metadata": {},
     "output_type": "execute_result"
    },
    {
     "data": {
      "image/png": "[encoded data removed]",
      "text/plain": [
       "<Figure size 640x480 with 1 Axes>"
      ]
     },
     "metadata": {},
     "output_type": "display_data"
    }
   ],
   "source": [
    "sns.countplot(x='Score',data=df)"
   ]
  },
  {
   "cell_type": "code",
   "execution_count": 64,
   "id": "9513026b-8e2c-4d9f-bd0d-9c46d54a35aa",
   "metadata": {},
   "outputs": [
    {
     "data": {
      "text/plain": [
       "<AxesSubplot:xlabel='Batch', ylabel='count'>"
      ]
     },
     "execution_count": 64,
     "metadata": {},
     "output_type": "execute_result"
    },
    {
     "data": {
      "image/png": "[encoded data removed]",
      "text/plain": [
       "<Figure size 640x480 with 1 Axes>"
      ]
     },
     "metadata": {},
     "output_type": "display_data"
    }
   ],
   "source": [
    "sns.countplot(x='Batch',data=df)"
   ]
  },
  {
   "cell_type": "code",
   "execution_count": 67,
   "id": "02978df6-fa29-4611-883b-73a0a56a3763",
   "metadata": {},
   "outputs": [
    {
     "data": {
      "text/plain": [
       "0"
      ]
     },
     "execution_count": 67,
     "metadata": {},
     "output_type": "execute_result"
    }
   ],
   "source": [
    "df.duplicated().sum()"
   ]
  },
  {
   "cell_type": "code",
   "execution_count": 71,
   "id": "97923b9f-0be6-40c9-ad04-e240f612cdab",
   "metadata": {},
   "outputs": [],
   "source": [
    "g = df.groupby(['Batch','Score'])"
   ]
  },
  {
   "cell_type": "code",
   "execution_count": 73,
   "id": "6f49ac23-371b-48af-b43a-a8646c8e5929",
   "metadata": {},
   "outputs": [
    {
     "data": {
      "text/html": [
       "<div>\n",
       "<style scoped>\n",
       "    .dataframe tbody tr th:only-of-type {\n",
       "        vertical-align: middle;\n",
       "    }\n",
       "\n",
       "    .dataframe tbody tr th {\n",
       "        vertical-align: top;\n",
       "    }\n",
       "\n",
       "    .dataframe thead th {\n",
       "        text-align: right;\n",
       "    }\n",
       "</style>\n",
       "<table border=\"1\" class=\"dataframe\">\n",
       "  <thead>\n",
       "    <tr style=\"text-align: right;\">\n",
       "      <th></th>\n",
       "      <th></th>\n",
       "      <th>User_ID</th>\n",
       "    </tr>\n",
       "    <tr>\n",
       "      <th>Batch</th>\n",
       "      <th>Score</th>\n",
       "      <th></th>\n",
       "    </tr>\n",
       "  </thead>\n",
       "  <tbody>\n",
       "    <tr>\n",
       "      <th rowspan=\"8\" valign=\"top\">AI_ELITE_4</th>\n",
       "      <th>0 / 7</th>\n",
       "      <td>uid_14</td>\n",
       "    </tr>\n",
       "    <tr>\n",
       "      <th>1 / 7</th>\n",
       "      <td>uid_20</td>\n",
       "    </tr>\n",
       "    <tr>\n",
       "      <th>2 / 7</th>\n",
       "      <td>uid_41</td>\n",
       "    </tr>\n",
       "    <tr>\n",
       "      <th>3 / 7</th>\n",
       "      <td>uid_29</td>\n",
       "    </tr>\n",
       "    <tr>\n",
       "      <th>4 / 7</th>\n",
       "      <td>uid_46</td>\n",
       "    </tr>\n",
       "    <tr>\n",
       "      <th>5 / 7</th>\n",
       "      <td>uid_47</td>\n",
       "    </tr>\n",
       "    <tr>\n",
       "      <th>6 / 7</th>\n",
       "      <td>uid_42</td>\n",
       "    </tr>\n",
       "    <tr>\n",
       "      <th>7 / 7</th>\n",
       "      <td>uid_48</td>\n",
       "    </tr>\n",
       "    <tr>\n",
       "      <th rowspan=\"8\" valign=\"top\">AI_ELITE_6</th>\n",
       "      <th>0 / 7</th>\n",
       "      <td>uid_81</td>\n",
       "    </tr>\n",
       "    <tr>\n",
       "      <th>1 / 7</th>\n",
       "      <td>uid_78</td>\n",
       "    </tr>\n",
       "    <tr>\n",
       "      <th>2 / 7</th>\n",
       "      <td>uid_57</td>\n",
       "    </tr>\n",
       "    <tr>\n",
       "      <th>3 / 7</th>\n",
       "      <td>uid_96</td>\n",
       "    </tr>\n",
       "    <tr>\n",
       "      <th>4 / 7</th>\n",
       "      <td>uid_95</td>\n",
       "    </tr>\n",
       "    <tr>\n",
       "      <th>5 / 7</th>\n",
       "      <td>uid_88</td>\n",
       "    </tr>\n",
       "    <tr>\n",
       "      <th>6 / 7</th>\n",
       "      <td>uid_94</td>\n",
       "    </tr>\n",
       "    <tr>\n",
       "      <th>7 / 7</th>\n",
       "      <td>uid_86</td>\n",
       "    </tr>\n",
       "    <tr>\n",
       "      <th rowspan=\"6\" valign=\"top\">AI_ELITE_7</th>\n",
       "      <th>2 / 7</th>\n",
       "      <td>uid_112</td>\n",
       "    </tr>\n",
       "    <tr>\n",
       "      <th>3 / 7</th>\n",
       "      <td>uid_141</td>\n",
       "    </tr>\n",
       "    <tr>\n",
       "      <th>4 / 7</th>\n",
       "      <td>uid_145</td>\n",
       "    </tr>\n",
       "    <tr>\n",
       "      <th>5 / 7</th>\n",
       "      <td>uid_143</td>\n",
       "    </tr>\n",
       "    <tr>\n",
       "      <th>6 / 7</th>\n",
       "      <td>uid_149</td>\n",
       "    </tr>\n",
       "    <tr>\n",
       "      <th>7 / 7</th>\n",
       "      <td>uid_147</td>\n",
       "    </tr>\n",
       "  </tbody>\n",
       "</table>\n",
       "</div>"
      ],
      "text/plain": [
       "                  User_ID\n",
       "Batch      Score         \n",
       "AI_ELITE_4 0 / 7   uid_14\n",
       "           1 / 7   uid_20\n",
       "           2 / 7   uid_41\n",
       "           3 / 7   uid_29\n",
       "           4 / 7   uid_46\n",
       "           5 / 7   uid_47\n",
       "           6 / 7   uid_42\n",
       "           7 / 7   uid_48\n",
       "AI_ELITE_6 0 / 7   uid_81\n",
       "           1 / 7   uid_78\n",
       "           2 / 7   uid_57\n",
       "           3 / 7   uid_96\n",
       "           4 / 7   uid_95\n",
       "           5 / 7   uid_88\n",
       "           6 / 7   uid_94\n",
       "           7 / 7   uid_86\n",
       "AI_ELITE_7 2 / 7  uid_112\n",
       "           3 / 7  uid_141\n",
       "           4 / 7  uid_145\n",
       "           5 / 7  uid_143\n",
       "           6 / 7  uid_149\n",
       "           7 / 7  uid_147"
      ]
     },
     "execution_count": 73,
     "metadata": {},
     "output_type": "execute_result"
    }
   ],
   "source": [
    "g.first()"
   ]
  },
  {
   "cell_type": "code",
   "execution_count": 74,
   "id": "2e1a21bc-4cdf-4133-a11d-491eb39e567f",
   "metadata": {},
   "outputs": [],
   "source": [
    "f = df.groupby(['Batch'])"
   ]
  },
  {
   "cell_type": "code",
   "execution_count": 76,
   "id": "4eb84d9f-1373-46b9-8330-5ae907a1faa2",
   "metadata": {},
   "outputs": [
    {
     "data": {
      "text/html": [
       "<div>\n",
       "<style scoped>\n",
       "    .dataframe tbody tr th:only-of-type {\n",
       "        vertical-align: middle;\n",
       "    }\n",
       "\n",
       "    .dataframe tbody tr th {\n",
       "        vertical-align: top;\n",
       "    }\n",
       "\n",
       "    .dataframe thead th {\n",
       "        text-align: right;\n",
       "    }\n",
       "</style>\n",
       "<table border=\"1\" class=\"dataframe\">\n",
       "  <thead>\n",
       "    <tr style=\"text-align: right;\">\n",
       "      <th></th>\n",
       "      <th>User_ID</th>\n",
       "      <th>Score</th>\n",
       "    </tr>\n",
       "    <tr>\n",
       "      <th>Batch</th>\n",
       "      <th></th>\n",
       "      <th></th>\n",
       "    </tr>\n",
       "  </thead>\n",
       "  <tbody>\n",
       "    <tr>\n",
       "      <th>AI_ELITE_4</th>\n",
       "      <td>uid_48</td>\n",
       "      <td>7 / 7</td>\n",
       "    </tr>\n",
       "    <tr>\n",
       "      <th>AI_ELITE_6</th>\n",
       "      <td>uid_96</td>\n",
       "      <td>3 / 7</td>\n",
       "    </tr>\n",
       "    <tr>\n",
       "      <th>AI_ELITE_7</th>\n",
       "      <td>uid_149</td>\n",
       "      <td>6 / 7</td>\n",
       "    </tr>\n",
       "  </tbody>\n",
       "</table>\n",
       "</div>"
      ],
      "text/plain": [
       "            User_ID  Score\n",
       "Batch                     \n",
       "AI_ELITE_4   uid_48  7 / 7\n",
       "AI_ELITE_6   uid_96  3 / 7\n",
       "AI_ELITE_7  uid_149  6 / 7"
      ]
     },
     "execution_count": 76,
     "metadata": {},
     "output_type": "execute_result"
    }
   ],
   "source": [
    "f.first()"
   ]
  },
  {
   "cell_type": "code",
   "execution_count": 77,
   "id": "b684f311-2bec-43ca-9e4c-36a7797939aa",
   "metadata": {},
   "outputs": [],
   "source": [
    "c = df.groupby(['Score'])"
   ]
  },
  {
   "cell_type": "code",
   "execution_count": 78,
   "id": "2e6a939f-bc6f-4e56-83ea-1f4cbb6bb401",
   "metadata": {},
   "outputs": [
    {
     "data": {
      "text/html": [
       "<div>\n",
       "<style scoped>\n",
       "    .dataframe tbody tr th:only-of-type {\n",
       "        vertical-align: middle;\n",
       "    }\n",
       "\n",
       "    .dataframe tbody tr th {\n",
       "        vertical-align: top;\n",
       "    }\n",
       "\n",
       "    .dataframe thead th {\n",
       "        text-align: right;\n",
       "    }\n",
       "</style>\n",
       "<table border=\"1\" class=\"dataframe\">\n",
       "  <thead>\n",
       "    <tr style=\"text-align: right;\">\n",
       "      <th></th>\n",
       "      <th>Batch</th>\n",
       "      <th>User_ID</th>\n",
       "    </tr>\n",
       "    <tr>\n",
       "      <th>Score</th>\n",
       "      <th></th>\n",
       "      <th></th>\n",
       "    </tr>\n",
       "  </thead>\n",
       "  <tbody>\n",
       "    <tr>\n",
       "      <th>0 / 7</th>\n",
       "      <td>AI_ELITE_6</td>\n",
       "      <td>uid_81</td>\n",
       "    </tr>\n",
       "    <tr>\n",
       "      <th>1 / 7</th>\n",
       "      <td>AI_ELITE_6</td>\n",
       "      <td>uid_78</td>\n",
       "    </tr>\n",
       "    <tr>\n",
       "      <th>2 / 7</th>\n",
       "      <td>AI_ELITE_7</td>\n",
       "      <td>uid_112</td>\n",
       "    </tr>\n",
       "    <tr>\n",
       "      <th>3 / 7</th>\n",
       "      <td>AI_ELITE_7</td>\n",
       "      <td>uid_141</td>\n",
       "    </tr>\n",
       "    <tr>\n",
       "      <th>4 / 7</th>\n",
       "      <td>AI_ELITE_7</td>\n",
       "      <td>uid_145</td>\n",
       "    </tr>\n",
       "    <tr>\n",
       "      <th>5 / 7</th>\n",
       "      <td>AI_ELITE_7</td>\n",
       "      <td>uid_143</td>\n",
       "    </tr>\n",
       "    <tr>\n",
       "      <th>6 / 7</th>\n",
       "      <td>AI_ELITE_7</td>\n",
       "      <td>uid_149</td>\n",
       "    </tr>\n",
       "    <tr>\n",
       "      <th>7 / 7</th>\n",
       "      <td>AI_ELITE_7</td>\n",
       "      <td>uid_147</td>\n",
       "    </tr>\n",
       "  </tbody>\n",
       "</table>\n",
       "</div>"
      ],
      "text/plain": [
       "            Batch  User_ID\n",
       "Score                     \n",
       "0 / 7  AI_ELITE_6   uid_81\n",
       "1 / 7  AI_ELITE_6   uid_78\n",
       "2 / 7  AI_ELITE_7  uid_112\n",
       "3 / 7  AI_ELITE_7  uid_141\n",
       "4 / 7  AI_ELITE_7  uid_145\n",
       "5 / 7  AI_ELITE_7  uid_143\n",
       "6 / 7  AI_ELITE_7  uid_149\n",
       "7 / 7  AI_ELITE_7  uid_147"
      ]
     },
     "execution_count": 78,
     "metadata": {},
     "output_type": "execute_result"
    }
   ],
   "source": [
    "c.first()"
   ]
  },
  {
   "cell_type": "code",
   "execution_count": 93,
   "id": "04fd29e8-b68d-41f7-9a58-35856cadea90",
   "metadata": {},
   "outputs": [],
   "source": [
    "y=df.groupby(by='Score')"
   ]
  },
  {
   "cell_type": "code",
   "execution_count": 96,
   "id": "8e27ff77-b55e-49c7-94c5-8db23789170f",
   "metadata": {},
   "outputs": [
    {
     "data": {
      "text/html": [
       "<div>\n",
       "<style scoped>\n",
       "    .dataframe tbody tr th:only-of-type {\n",
       "        vertical-align: middle;\n",
       "    }\n",
       "\n",
       "    .dataframe tbody tr th {\n",
       "        vertical-align: top;\n",
       "    }\n",
       "\n",
       "    .dataframe thead th {\n",
       "        text-align: right;\n",
       "    }\n",
       "</style>\n",
       "<table border=\"1\" class=\"dataframe\">\n",
       "  <thead>\n",
       "    <tr style=\"text-align: right;\">\n",
       "      <th></th>\n",
       "      <th>Batch</th>\n",
       "      <th>User_ID</th>\n",
       "    </tr>\n",
       "    <tr>\n",
       "      <th>Score</th>\n",
       "      <th></th>\n",
       "      <th></th>\n",
       "    </tr>\n",
       "  </thead>\n",
       "  <tbody>\n",
       "    <tr>\n",
       "      <th>0 / 7</th>\n",
       "      <td>AI_ELITE_6</td>\n",
       "      <td>uid_81</td>\n",
       "    </tr>\n",
       "    <tr>\n",
       "      <th>1 / 7</th>\n",
       "      <td>AI_ELITE_6</td>\n",
       "      <td>uid_78</td>\n",
       "    </tr>\n",
       "    <tr>\n",
       "      <th>2 / 7</th>\n",
       "      <td>AI_ELITE_7</td>\n",
       "      <td>uid_112</td>\n",
       "    </tr>\n",
       "    <tr>\n",
       "      <th>3 / 7</th>\n",
       "      <td>AI_ELITE_7</td>\n",
       "      <td>uid_141</td>\n",
       "    </tr>\n",
       "    <tr>\n",
       "      <th>4 / 7</th>\n",
       "      <td>AI_ELITE_7</td>\n",
       "      <td>uid_145</td>\n",
       "    </tr>\n",
       "    <tr>\n",
       "      <th>5 / 7</th>\n",
       "      <td>AI_ELITE_7</td>\n",
       "      <td>uid_143</td>\n",
       "    </tr>\n",
       "    <tr>\n",
       "      <th>6 / 7</th>\n",
       "      <td>AI_ELITE_7</td>\n",
       "      <td>uid_149</td>\n",
       "    </tr>\n",
       "    <tr>\n",
       "      <th>7 / 7</th>\n",
       "      <td>AI_ELITE_7</td>\n",
       "      <td>uid_147</td>\n",
       "    </tr>\n",
       "  </tbody>\n",
       "</table>\n",
       "</div>"
      ],
      "text/plain": [
       "            Batch  User_ID\n",
       "Score                     \n",
       "0 / 7  AI_ELITE_6   uid_81\n",
       "1 / 7  AI_ELITE_6   uid_78\n",
       "2 / 7  AI_ELITE_7  uid_112\n",
       "3 / 7  AI_ELITE_7  uid_141\n",
       "4 / 7  AI_ELITE_7  uid_145\n",
       "5 / 7  AI_ELITE_7  uid_143\n",
       "6 / 7  AI_ELITE_7  uid_149\n",
       "7 / 7  AI_ELITE_7  uid_147"
      ]
     },
     "execution_count": 98,
     "metadata": {},
     "output_type": "execute_result"
    }
   ],
   "source": [
    "y.first()"
   ]
  },
  {
   "cell_type": "code",
   "execution_count": 114,
   "id": "7e7e48e5-8a07-4dc7-92bc-08c18c2d1b0b",
   "metadata": {},
   "outputs": [],
   "source": [
    "z = df.groupby(['Batch','User_ID'])"
   ]
  },
  {
   "cell_type": "code",
   "execution_count": 117,
   "id": "cb969355-9ea1-475f-9400-00afc702df0e",
   "metadata": {},
   "outputs": [
    {
     "data": {
      "text/plain": [
       "{'0 / 7': array([ 68, 135], dtype=int64),\n",
       " '1 / 7': array([ 71,  97, 129], dtype=int64),\n",
       " '2 / 7': array([ 37,  50,  92,  93,  95, 108, 109, 111, 113, 114, 116, 148],\n",
       "       dtype=int64),\n",
       " '3 / 7': array([  8,  11,  25,  32,  38,  49,  52,  53,  58,  60,  62,  76,  77,\n",
       "         80,  90,  96, 120, 121, 125, 126, 127, 130, 143, 147], dtype=int64),\n",
       " '4 / 7': array([  4,  20,  26,  28,  33,  39,  40,  45,  47,  51,  54,  57,  59,\n",
       "         70,  72,  75,  84,  89,  91,  94, 100, 103, 104, 110, 115, 117,\n",
       "        119, 123, 128, 131, 132, 133, 134, 137, 138, 140, 142, 144, 145,\n",
       "        146], dtype=int64),\n",
       " '5 / 7': array([  6,  13,  18,  21,  23,  29,  31,  41,  42,  43,  46,  61,  64,\n",
       "         65,  66,  69,  73,  82,  83,  85,  86,  87,  88,  99, 102, 106,\n",
       "        112, 118, 122, 124, 136, 141], dtype=int64),\n",
       " '6 / 7': array([  0,   1,   9,  10,  12,  14,  22,  27,  30,  34,  36,  44,  48,\n",
       "         55,  56,  79,  81, 107], dtype=int64),\n",
       " '7 / 7': array([  2,   3,   5,   7,  15,  16,  17,  19,  24,  35,  63,  67,  74,\n",
       "         78,  98, 101, 105, 139], dtype=int64)}"
      ]
     },
     "execution_count": 117,
     "metadata": {},
     "output_type": "execute_result"
    }
   ],
   "source": [
    "y.indices"
   ]
  },
  {
   "cell_type": "code",
   "execution_count": 136,
   "id": "665397d8-54ac-4190-ab13-f57817dfec7a",
   "metadata": {},
   "outputs": [
    {
     "data": {
      "text/html": [
       "<div>\n",
       "<style scoped>\n",
       "    .dataframe tbody tr th:only-of-type {\n",
       "        vertical-align: middle;\n",
       "    }\n",
       "\n",
       "    .dataframe tbody tr th {\n",
       "        vertical-align: top;\n",
       "    }\n",
       "\n",
       "    .dataframe thead th {\n",
       "        text-align: right;\n",
       "    }\n",
       "</style>\n",
       "<table border=\"1\" class=\"dataframe\">\n",
       "  <thead>\n",
       "    <tr style=\"text-align: right;\">\n",
       "      <th></th>\n",
       "      <th>Batch</th>\n",
       "      <th>User_ID</th>\n",
       "      <th>Score</th>\n",
       "    </tr>\n",
       "  </thead>\n",
       "  <tbody>\n",
       "  </tbody>\n",
       "</table>\n",
       "</div>"
      ],
      "text/plain": [
       "Empty DataFrame\n",
       "Columns: [Batch, User_ID, Score]\n",
       "Index: []"
      ]
     },
     "execution_count": 136,
     "metadata": {},
     "output_type": "execute_result"
    }
   ],
   "source": [
    "df[df['Score']==6/7]"
   ]
  },
  {
   "cell_type": "code",
   "execution_count": 187,
   "id": "eec74418-607c-44eb-9080-d2708cffa71e",
   "metadata": {},
   "outputs": [],
   "source": [
    "df['a']=df['Score'].apply(lambda x:x.split('/')[0])"
   ]
  },
  {
   "cell_type": "code",
   "execution_count": 188,
   "id": "6bd81d0d-81a2-451e-9607-e04ff75d126e",
   "metadata": {},
   "outputs": [
    {
     "data": {
      "text/html": [
       "<div>\n",
       "<style scoped>\n",
       "    .dataframe tbody tr th:only-of-type {\n",
       "        vertical-align: middle;\n",
       "    }\n",
       "\n",
       "    .dataframe tbody tr th {\n",
       "        vertical-align: top;\n",
       "    }\n",
       "\n",
       "    .dataframe thead th {\n",
       "        text-align: right;\n",
       "    }\n",
       "</style>\n",
       "<table border=\"1\" class=\"dataframe\">\n",
       "  <thead>\n",
       "    <tr style=\"text-align: right;\">\n",
       "      <th></th>\n",
       "      <th>Batch</th>\n",
       "      <th>User_ID</th>\n",
       "      <th>Score</th>\n",
       "      <th>a</th>\n",
       "    </tr>\n",
       "  </thead>\n",
       "  <tbody>\n",
       "    <tr>\n",
       "      <th>0</th>\n",
       "      <td>AI_ELITE_7</td>\n",
       "      <td>uid_149</td>\n",
       "      <td>6 / 7</td>\n",
       "      <td>6</td>\n",
       "    </tr>\n",
       "    <tr>\n",
       "      <th>1</th>\n",
       "      <td>AI_ELITE_7</td>\n",
       "      <td>uid_148</td>\n",
       "      <td>6 / 7</td>\n",
       "      <td>6</td>\n",
       "    </tr>\n",
       "    <tr>\n",
       "      <th>2</th>\n",
       "      <td>AI_ELITE_7</td>\n",
       "      <td>uid_147</td>\n",
       "      <td>7 / 7</td>\n",
       "      <td>7</td>\n",
       "    </tr>\n",
       "    <tr>\n",
       "      <th>3</th>\n",
       "      <td>AI_ELITE_7</td>\n",
       "      <td>uid_146</td>\n",
       "      <td>7 / 7</td>\n",
       "      <td>7</td>\n",
       "    </tr>\n",
       "    <tr>\n",
       "      <th>4</th>\n",
       "      <td>AI_ELITE_7</td>\n",
       "      <td>uid_145</td>\n",
       "      <td>4 / 7</td>\n",
       "      <td>4</td>\n",
       "    </tr>\n",
       "    <tr>\n",
       "      <th>...</th>\n",
       "      <td>...</td>\n",
       "      <td>...</td>\n",
       "      <td>...</td>\n",
       "      <td>...</td>\n",
       "    </tr>\n",
       "    <tr>\n",
       "      <th>144</th>\n",
       "      <td>AI_ELITE_4</td>\n",
       "      <td>uid_5</td>\n",
       "      <td>4 / 7</td>\n",
       "      <td>4</td>\n",
       "    </tr>\n",
       "    <tr>\n",
       "      <th>145</th>\n",
       "      <td>AI_ELITE_4</td>\n",
       "      <td>uid_4</td>\n",
       "      <td>4 / 7</td>\n",
       "      <td>4</td>\n",
       "    </tr>\n",
       "    <tr>\n",
       "      <th>146</th>\n",
       "      <td>AI_ELITE_4</td>\n",
       "      <td>uid_3</td>\n",
       "      <td>4 / 7</td>\n",
       "      <td>4</td>\n",
       "    </tr>\n",
       "    <tr>\n",
       "      <th>147</th>\n",
       "      <td>AI_ELITE_4</td>\n",
       "      <td>uid_2</td>\n",
       "      <td>3 / 7</td>\n",
       "      <td>3</td>\n",
       "    </tr>\n",
       "    <tr>\n",
       "      <th>148</th>\n",
       "      <td>AI_ELITE_4</td>\n",
       "      <td>uid_1</td>\n",
       "      <td>2 / 7</td>\n",
       "      <td>2</td>\n",
       "    </tr>\n",
       "  </tbody>\n",
       "</table>\n",
       "<p>149 rows × 4 columns</p>\n",
       "</div>"
      ],
      "text/plain": [
       "          Batch  User_ID  Score   a\n",
       "0    AI_ELITE_7  uid_149  6 / 7  6 \n",
       "1    AI_ELITE_7  uid_148  6 / 7  6 \n",
       "2    AI_ELITE_7  uid_147  7 / 7  7 \n",
       "3    AI_ELITE_7  uid_146  7 / 7  7 \n",
       "4    AI_ELITE_7  uid_145  4 / 7  4 \n",
       "..          ...      ...    ...  ..\n",
       "144  AI_ELITE_4    uid_5  4 / 7  4 \n",
       "145  AI_ELITE_4    uid_4  4 / 7  4 \n",
       "146  AI_ELITE_4    uid_3  4 / 7  4 \n",
       "147  AI_ELITE_4    uid_2  3 / 7  3 \n",
       "148  AI_ELITE_4    uid_1  2 / 7  2 \n",
       "\n",
       "[149 rows x 4 columns]"
      ]
     },
     "execution_count": 188,
     "metadata": {},
     "output_type": "execute_result"
    }
   ],
   "source": [
    "df"
   ]
  },
  {
   "cell_type": "code",
   "execution_count": 189,
   "id": "15044488-2c89-465f-9fed-47bfd579d868",
   "metadata": {},
   "outputs": [],
   "source": [
    "df['a'] = df['a'].astype(int)"
   ]
  },
  {
   "cell_type": "code",
   "execution_count": 192,
   "id": "d2c4b29d-4ac2-4a90-a5b9-a121dbaa0f01",
   "metadata": {},
   "outputs": [],
   "source": [
    "df['Score']=df['a'].apply(lambda x:x/7)"
   ]
  },
  {
   "cell_type": "code",
   "execution_count": 197,
   "id": "8f5798d4-9f57-4fe0-94b6-f1921c3f16ad",
   "metadata": {},
   "outputs": [],
   "source": [
    "df.drop('a',axis=1,inplace=True)"
   ]
  },
  {
   "cell_type": "code",
   "execution_count": 198,
   "id": "a0570bde-72ed-423c-84bc-ff7b4ddb4791",
   "metadata": {},
   "outputs": [
    {
     "data": {
      "text/html": [
       "<div>\n",
       "<style scoped>\n",
       "    .dataframe tbody tr th:only-of-type {\n",
       "        vertical-align: middle;\n",
       "    }\n",
       "\n",
       "    .dataframe tbody tr th {\n",
       "        vertical-align: top;\n",
       "    }\n",
       "\n",
       "    .dataframe thead th {\n",
       "        text-align: right;\n",
       "    }\n",
       "</style>\n",
       "<table border=\"1\" class=\"dataframe\">\n",
       "  <thead>\n",
       "    <tr style=\"text-align: right;\">\n",
       "      <th></th>\n",
       "      <th>Batch</th>\n",
       "      <th>User_ID</th>\n",
       "      <th>Score</th>\n",
       "    </tr>\n",
       "  </thead>\n",
       "  <tbody>\n",
       "    <tr>\n",
       "      <th>0</th>\n",
       "      <td>AI_ELITE_7</td>\n",
       "      <td>uid_149</td>\n",
       "      <td>0.857143</td>\n",
       "    </tr>\n",
       "    <tr>\n",
       "      <th>1</th>\n",
       "      <td>AI_ELITE_7</td>\n",
       "      <td>uid_148</td>\n",
       "      <td>0.857143</td>\n",
       "    </tr>\n",
       "    <tr>\n",
       "      <th>2</th>\n",
       "      <td>AI_ELITE_7</td>\n",
       "      <td>uid_147</td>\n",
       "      <td>1.000000</td>\n",
       "    </tr>\n",
       "    <tr>\n",
       "      <th>3</th>\n",
       "      <td>AI_ELITE_7</td>\n",
       "      <td>uid_146</td>\n",
       "      <td>1.000000</td>\n",
       "    </tr>\n",
       "    <tr>\n",
       "      <th>4</th>\n",
       "      <td>AI_ELITE_7</td>\n",
       "      <td>uid_145</td>\n",
       "      <td>0.571429</td>\n",
       "    </tr>\n",
       "    <tr>\n",
       "      <th>...</th>\n",
       "      <td>...</td>\n",
       "      <td>...</td>\n",
       "      <td>...</td>\n",
       "    </tr>\n",
       "    <tr>\n",
       "      <th>144</th>\n",
       "      <td>AI_ELITE_4</td>\n",
       "      <td>uid_5</td>\n",
       "      <td>0.571429</td>\n",
       "    </tr>\n",
       "    <tr>\n",
       "      <th>145</th>\n",
       "      <td>AI_ELITE_4</td>\n",
       "      <td>uid_4</td>\n",
       "      <td>0.571429</td>\n",
       "    </tr>\n",
       "    <tr>\n",
       "      <th>146</th>\n",
       "      <td>AI_ELITE_4</td>\n",
       "      <td>uid_3</td>\n",
       "      <td>0.571429</td>\n",
       "    </tr>\n",
       "    <tr>\n",
       "      <th>147</th>\n",
       "      <td>AI_ELITE_4</td>\n",
       "      <td>uid_2</td>\n",
       "      <td>0.428571</td>\n",
       "    </tr>\n",
       "    <tr>\n",
       "      <th>148</th>\n",
       "      <td>AI_ELITE_4</td>\n",
       "      <td>uid_1</td>\n",
       "      <td>0.285714</td>\n",
       "    </tr>\n",
       "  </tbody>\n",
       "</table>\n",
       "<p>149 rows × 3 columns</p>\n",
       "</div>"
      ],
      "text/plain": [
       "          Batch  User_ID     Score\n",
       "0    AI_ELITE_7  uid_149  0.857143\n",
       "1    AI_ELITE_7  uid_148  0.857143\n",
       "2    AI_ELITE_7  uid_147  1.000000\n",
       "3    AI_ELITE_7  uid_146  1.000000\n",
       "4    AI_ELITE_7  uid_145  0.571429\n",
       "..          ...      ...       ...\n",
       "144  AI_ELITE_4    uid_5  0.571429\n",
       "145  AI_ELITE_4    uid_4  0.571429\n",
       "146  AI_ELITE_4    uid_3  0.571429\n",
       "147  AI_ELITE_4    uid_2  0.428571\n",
       "148  AI_ELITE_4    uid_1  0.285714\n",
       "\n",
       "[149 rows x 3 columns]"
      ]
     },
     "execution_count": 198,
     "metadata": {},
     "output_type": "execute_result"
    }
   ],
   "source": [
    "df"
   ]
  },
  {
   "cell_type": "code",
   "execution_count": 234,
   "id": "bae697c4-aae1-4a95-b98b-d7d57adcabf4",
   "metadata": {},
   "outputs": [],
   "source": [
    "b=df.groupby(['Batch']).size()"
   ]
  },
  {
   "cell_type": "code",
   "execution_count": 203,
   "id": "74f3285d-34e4-4054-ad87-3014b66a7e37",
   "metadata": {},
   "outputs": [
    {
     "data": {
      "text/plain": [
       "Score\n",
       "0.000000     2\n",
       "0.142857     3\n",
       "0.285714    12\n",
       "0.428571    24\n",
       "0.571429    40\n",
       "0.714286    32\n",
       "0.857143    18\n",
       "1.000000    18\n",
       "dtype: int64"
      ]
     },
     "execution_count": 203,
     "metadata": {},
     "output_type": "execute_result"
    }
   ],
   "source": [
    "df.groupby('Score').size()"
   ]
  },
  {
   "cell_type": "code",
   "execution_count": 261,
   "id": "2846176b-4043-46cb-a5ab-ba25fbf418ce",
   "metadata": {},
   "outputs": [],
   "source": [
    "a=df.groupby('Batch')['Score'].sum()"
   ]
  },
  {
   "cell_type": "code",
   "execution_count": 262,
   "id": "c1895912-bf45-42e4-86d9-b02411a92f1f",
   "metadata": {},
   "outputs": [
    {
     "data": {
      "text/plain": [
       "Batch\n",
       "AI_ELITE_4    26.000000\n",
       "AI_ELITE_6    29.000000\n",
       "AI_ELITE_7    38.285714\n",
       "Name: Score, dtype: float64"
      ]
     },
     "execution_count": 262,
     "metadata": {},
     "output_type": "execute_result"
    }
   ],
   "source": [
    "a"
   ]
  },
  {
   "cell_type": "code",
   "execution_count": 295,
   "id": "461a7e84-5176-4654-9432-2c51edb7a1ac",
   "metadata": {},
   "outputs": [],
   "source": [
    "b=df['Batch'].value_counts()"
   ]
  },
  {
   "cell_type": "code",
   "execution_count": 296,
   "id": "5d847ef5-be70-494c-8865-1563687079cf",
   "metadata": {},
   "outputs": [
    {
     "data": {
      "text/plain": [
       "AI_ELITE_7    53\n",
       "AI_ELITE_6    48\n",
       "AI_ELITE_4    48\n",
       "Name: Batch, dtype: int64"
      ]
     },
     "execution_count": 296,
     "metadata": {},
     "output_type": "execute_result"
    }
   ],
   "source": [
    "b"
   ]
  },
  {
   "cell_type": "code",
   "execution_count": 293,
   "id": "9e87237c-0f95-4db7-b755-b609d40b3f2a",
   "metadata": {},
   "outputs": [
    {
     "data": {
      "text/plain": [
       "<AxesSubplot:ylabel='Score'>"
      ]
     },
     "execution_count": 293,
     "metadata": {},
     "output_type": "execute_result"
    },
    {
     "data": {
      "image/png": "[encoded data removed]",
      "text/plain": [
       "<Figure size 640x480 with 1 Axes>"
      ]
     },
     "metadata": {},
     "output_type": "display_data"
    }
   ],
   "source": [
    "sns.barplot(y=a,x=['AI_ELITE_4', 'AI_ELITE_6', 'AI_ELITE_7'])"
   ]
  },
  {
   "cell_type": "markdown",
   "id": "96586415-4a04-4b8e-a2b5-f8227734baf1",
   "metadata": {},
   "source": [
    "#### Batch_7 students score higher than Batch_6,Batch_4\n",
    "#### Batch_4 students score are the lowest"
   ]
  },
  {
   "cell_type": "code",
   "execution_count": 363,
   "id": "d4391f1e-af8b-498d-897f-cb2089be856c",
   "metadata": {},
   "outputs": [],
   "source": [
    "y=df[df['Score']==1.000].groupby('Batch').sum()"
   ]
  },
  {
   "cell_type": "code",
   "execution_count": 367,
   "id": "a36bf458-3101-4cbf-aae1-8de6d5043457",
   "metadata": {},
   "outputs": [
    {
     "data": {
      "text/html": [
       "<div>\n",
       "<style scoped>\n",
       "    .dataframe tbody tr th:only-of-type {\n",
       "        vertical-align: middle;\n",
       "    }\n",
       "\n",
       "    .dataframe tbody tr th {\n",
       "        vertical-align: top;\n",
       "    }\n",
       "\n",
       "    .dataframe thead th {\n",
       "        text-align: right;\n",
       "    }\n",
       "</style>\n",
       "<table border=\"1\" class=\"dataframe\">\n",
       "  <thead>\n",
       "    <tr style=\"text-align: right;\">\n",
       "      <th></th>\n",
       "      <th>Score</th>\n",
       "    </tr>\n",
       "    <tr>\n",
       "      <th>Batch</th>\n",
       "      <th></th>\n",
       "    </tr>\n",
       "  </thead>\n",
       "  <tbody>\n",
       "    <tr>\n",
       "      <th>AI_ELITE_4</th>\n",
       "      <td>3.0</td>\n",
       "    </tr>\n",
       "    <tr>\n",
       "      <th>AI_ELITE_6</th>\n",
       "      <td>5.0</td>\n",
       "    </tr>\n",
       "    <tr>\n",
       "      <th>AI_ELITE_7</th>\n",
       "      <td>10.0</td>\n",
       "    </tr>\n",
       "  </tbody>\n",
       "</table>\n",
       "</div>"
      ],
      "text/plain": [
       "            Score\n",
       "Batch            \n",
       "AI_ELITE_4    3.0\n",
       "AI_ELITE_6    5.0\n",
       "AI_ELITE_7   10.0"
      ]
     },
     "execution_count": 367,
     "metadata": {},
     "output_type": "execute_result"
    }
   ],
   "source": [
    "y"
   ]
  },
  {
   "cell_type": "code",
   "execution_count": null,
   "id": "28af5570-9d80-4dea-9779-b4022584a3fb",
   "metadata": {},
   "outputs": [],
   "source": []
  },
  {
   "cell_type": "code",
   "execution_count": null,
   "id": "9ea97372-6a00-44d1-b742-0e322c1149fe",
   "metadata": {},
   "outputs": [],
   "source": []
  },
  {
   "cell_type": "code",
   "execution_count": 370,
   "id": "1c35693e-8159-4bab-bd41-ea794bd41b89",
   "metadata": {},
   "outputs": [
    {
     "data": {
      "text/plain": [
       "<AxesSubplot:ylabel='Score'>"
      ]
     },
     "execution_count": 370,
     "metadata": {},
     "output_type": "execute_result"
    },
    {
     "data": {
      "image/png": "[encoded data removed]",
      "text/plain": [
       "<Figure size 640x480 with 1 Axes>"
      ]
     },
     "metadata": {},
     "output_type": "display_data"
    }
   ],
   "source": [
    "sns.barplot(x=['AI_ELITE_4', 'AI_ELITE_6', 'AI_ELITE_7'],y=y['Score'])"
   ]
  },
  {
   "cell_type": "markdown",
   "id": "6d71ed4a-d809-4047-b333-dc5fbc8a8f2d",
   "metadata": {},
   "source": [
    "#### From the above plot we can see that batch 7 students scores 7 out of 7 wich is the highest score compared to batch4 and batch6"
   ]
  },
  {
   "cell_type": "code",
   "execution_count": 372,
   "id": "e382dae2-947e-47cd-bb25-07b2bc5d5873",
   "metadata": {},
   "outputs": [
    {
     "name": "stderr",
     "output_type": "stream",
     "text": [
      "C:\\Users\\LENOVO X1 YOGA\\AppData\\Local\\Programs\\Python\\Python39\\lib\\site-packages\\seaborn\\_decorators.py:36: FutureWarning: Pass the following variables as keyword args: x, y. From version 0.12, the only valid positional argument will be `data`, and passing other arguments without an explicit keyword will result in an error or misinterpretation.\n",
      "  warnings.warn(\n"
     ]
    },
    {
     "data": {
      "text/plain": [
       "<AxesSubplot:xlabel='Batch', ylabel='Score'>"
      ]
     },
     "execution_count": 372,
     "metadata": {},
     "output_type": "execute_result"
    },
    {
     "data": {
      "image/png": "[encoded data removed]",
      "text/plain": [
       "<Figure size 640x480 with 1 Axes>"
      ]
     },
     "metadata": {},
     "output_type": "display_data"
    }
   ],
   "source": [
    "sns.barplot(df['Batch'],df['Score'])"
   ]
  },
  {
   "cell_type": "code",
   "execution_count": null,
   "id": "a5877e2f-2768-474e-9976-ed923410a042",
   "metadata": {},
   "outputs": [],
   "source": []
  }
 ],
 "metadata": {
  "kernelspec": {
   "display_name": "Python 3 (ipykernel)",
   "language": "python",
   "name": "python3"
  },
  "language_info": {
   "codemirror_mode": {
    "name": "ipython",
    "version": 3
   },
   "file_extension": ".py",
   "mimetype": "text/x-python",
   "name": "python",
   "nbconvert_exporter": "python",
   "pygments_lexer": "ipython3",
   "version": "3.9.7"
  }
 },
 "nbformat": 4,
 "nbformat_minor": 5
}
